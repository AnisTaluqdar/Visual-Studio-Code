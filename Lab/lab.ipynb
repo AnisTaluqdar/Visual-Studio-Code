{
 "metadata": {
  "language_info": {
   "codemirror_mode": {
    "name": "ipython",
    "version": 3
   },
   "file_extension": ".py",
   "mimetype": "text/x-python",
   "name": "python",
   "nbconvert_exporter": "python",
   "pygments_lexer": "ipython3",
   "version": "3.9.5"
  },
  "orig_nbformat": 4,
  "kernelspec": {
   "name": "python3",
   "display_name": "Python 3.9.5 64-bit"
  },
  "interpreter": {
   "hash": "c6cdf7320b641c879aa85f55a90f78f0cc6ec9102554fd249e4587df21132c32"
  }
 },
 "nbformat": 4,
 "nbformat_minor": 2,
 "cells": [
  {
   "cell_type": "code",
   "execution_count": 5,
   "metadata": {},
   "outputs": [
    {
     "output_type": "stream",
     "name": "stdout",
     "text": [
      "rice 15\n"
     ]
    }
   ],
   "source": [
    "def cook(item, time):\n",
    "    print(f\"{item} {time}\")\n",
    "\n",
    "cook(\"rice\", 15)"
   ]
  },
  {
   "cell_type": "code",
   "execution_count": 14,
   "metadata": {},
   "outputs": [
    {
     "output_type": "stream",
     "name": "stdout",
     "text": [
      "audi\n2021\n30\n"
     ]
    }
   ],
   "source": [
    "class Car:\n",
    "    def __init__(self, name, year,mileage):\n",
    "        self.name = name\n",
    "        self.year = year\n",
    "        self.mileage = mileage\n",
    "    def printf(self):\n",
    "        print(self.name)\n",
    "        print(self.year)\n",
    "    def fueltank(self):\n",
    "        print(self.mileage*2)\n",
    "\n",
    "mycar = Car(\"audi\",2021,15)\n",
    "mycar.printf()\n",
    "mycar.fueltank()\n",
    "\n"
   ]
  },
  {
   "cell_type": "code",
   "execution_count": 16,
   "metadata": {},
   "outputs": [],
   "source": [
    "with open(\"student.txt\",\"w\") as f:\n",
    "    f.write(\"Green University of Bangladesh\")"
   ]
  },
  {
   "cell_type": "code",
   "execution_count": null,
   "metadata": {},
   "outputs": [],
   "source": []
  }
 ]
}