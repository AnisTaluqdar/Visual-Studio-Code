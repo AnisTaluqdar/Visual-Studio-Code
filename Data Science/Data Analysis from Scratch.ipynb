{
 "metadata": {
  "language_info": {
   "codemirror_mode": {
    "name": "ipython",
    "version": 3
   },
   "file_extension": ".py",
   "mimetype": "text/x-python",
   "name": "python",
   "nbconvert_exporter": "python",
   "pygments_lexer": "ipython3",
   "version": "3.9.5"
  },
  "orig_nbformat": 4,
  "kernelspec": {
   "name": "python3",
   "display_name": "Python 3.9.5 64-bit"
  },
  "interpreter": {
   "hash": "c6cdf7320b641c879aa85f55a90f78f0cc6ec9102554fd249e4587df21132c32"
  }
 },
 "nbformat": 4,
 "nbformat_minor": 2,
 "cells": [
  {
   "source": [
    "Book:Data Analysis from Scratch with Python (Peters Morgan)\n",
    "\n",
    "Date: 4/7/2021\n",
    "\n",
    "Presented by Muhammad Anisur Rahman"
   ],
   "cell_type": "markdown",
   "metadata": {}
  },
  {
   "source": [
    "                                                                Table of Contents\n",
    "                                             \n",
    "\n",
    "Introduction \n",
    "\n",
    "2. Why Choose Python for Data Science & Machine Learning \n",
    "\n",
    "    Python vs R \n",
    "\n",
    "    Widespread Use of Python in Data Analysis \n",
    "\n",
    "    Clarity\n",
    "\n",
    "3. Prerequisites & Reminders \n",
    "\n",
    "    Python & Programming Knowledge \n",
    "\n",
    "    Installation & Setup \n",
    "\n",
    "    Is Mathematical Expertise Necessary?\n",
    "\n",
    "4. Python Quick Review \n",
    "\n",
    "    Tips for Faster Learning\n",
    "\n",
    "5. Overview & Objectives \n",
    "\n",
    "    Data Analysis vs Data Science vs Machine Learning \n",
    "\n",
    "    Possibilities \n",
    "\n",
    "    Limitations of Data Analysis & Machine Learning \n",
    "\n",
    "    Accuracy & Performance\n",
    "\n",
    "6. A Quick Example \n",
    "\n",
    "    Iris Dataset Potential & Implications\n",
    "\n",
    "7. Getting & Processing \n",
    "\n",
    "    Data CSV Files \n",
    "\n",
    "    Feature Selection \n",
    "\n",
    "    Online Data Sources \n",
    "\n",
    "    Internal Data Source\n",
    "\n",
    "8. Data Visualization \n",
    "\n",
    "    Goal of Visualization \n",
    "\n",
    "    Importing & Using Matplotlib\n",
    "\n",
    "9. Supervised & Unsupervised Learning\n",
    "\n",
    "    What is Supervised Learning? \n",
    "\n",
    "    What is Unsupervised Learning? \n",
    "\n",
    "    How to Approach a Problem\n",
    "\n",
    "10. Regression \n",
    "\n",
    "    Simple Linear Regression \n",
    "\n",
    "    Multiple Linear Regression \n",
    "\n",
    "    Decision Tree \n",
    "\n",
    "    Random Forest\n",
    "\n",
    "11. Classification \n",
    "\n",
    "    Logistic Regression \n",
    "\n",
    "    K-Nearest Neighbors \n",
    "\n",
    "    Decision Tree Classification \n",
    "\n",
    "    Random Forest Classification\n",
    "\n",
    "12. Clustering \n",
    "\n",
    "    Goals & Uses of Clustering \n",
    "\n",
    "    K-Means Clustering \n",
    "\n",
    "    Anomaly Detection \n",
    "\n",
    "13. Association Rule Learning \n",
    "\n",
    "    Explanation \n",
    "\n",
    "    Apriori\n",
    "\n",
    "14. Reinforcement Learning \n",
    "\n",
    "    What is Reinforcement Learning? \n",
    "\n",
    "    Comparison with Supervised & Unsupervised Learning \n",
    "\n",
    "    Applying Reinforcement Learning\n",
    "\n",
    "15. Artificial Neural Networks \n",
    "\n",
    "    An Idea of How the Brain Works \n",
    "\n",
    "    Potential & Constraints \n",
    "\n",
    "    Here’s an Example\n",
    "\n",
    "16. Natural Language Processing \n",
    "\n",
    "    Analyzing Words & Sentiments \n",
    "    \n",
    "    Using NLTK"
   ],
   "cell_type": "markdown",
   "metadata": {}
  },
  {
   "source": [
    "                                                            4. Python Quick Review"
   ],
   "cell_type": "markdown",
   "metadata": {}
  },
  {
   "source": [
    "mathematical operations"
   ],
   "cell_type": "markdown",
   "metadata": {}
  },
  {
   "cell_type": "code",
   "execution_count": 4,
   "metadata": {},
   "outputs": [
    {
     "output_type": "stream",
     "name": "stdout",
     "text": [
      "6\nThor\n11\n15\n"
     ]
    }
   ],
   "source": [
    "3+3\n",
    "print(3+3) \n",
    "7-1\n",
    "5*2\n",
    "20/5\n",
    "9%5\n",
    "2**3 \n",
    "myName = \"Thor\"\n",
    "print(myName)\n",
    "x = 5\n",
    "y = 6\n",
    "print(x+y)\n",
    "print(x*3)\n"
   ]
  },
  {
   "source": [
    "Working on strings and variables"
   ],
   "cell_type": "markdown",
   "metadata": {}
  },
  {
   "cell_type": "code",
   "execution_count": 6,
   "metadata": {},
   "outputs": [
    {
     "output_type": "stream",
     "name": "stdout",
     "text": [
      "Hi, my name is Thor and my age is 25. Anyway, my hobby is programming.\n"
     ]
    }
   ],
   "source": [
    "myName = \"Thor\"\n",
    "age = 25\n",
    "hobby = \"programming\"\n",
    "\n",
    "print(\"Hi, my name is \" + myName + \" and my age is \" + str(age) + \". Anyway, my hobby is \" + hobby + \".\")"
   ]
  },
  {
   "cell_type": "code",
   "execution_count": null,
   "metadata": {},
   "outputs": [],
   "source": []
  }
 ]
}