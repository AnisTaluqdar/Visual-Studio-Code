{
 "metadata": {
  "language_info": {
   "codemirror_mode": {
    "name": "ipython",
    "version": 3
   },
   "file_extension": ".py",
   "mimetype": "text/x-python",
   "name": "python",
   "nbconvert_exporter": "python",
   "pygments_lexer": "ipython3",
   "version": "3.9.5"
  },
  "orig_nbformat": 4,
  "kernelspec": {
   "name": "python3",
   "display_name": "Python 3.9.5 64-bit"
  },
  "interpreter": {
   "hash": "c6cdf7320b641c879aa85f55a90f78f0cc6ec9102554fd249e4587df21132c32"
  }
 },
 "nbformat": 4,
 "nbformat_minor": 2,
 "cells": [
  {
   "source": [
    "Date: 4/7/2021\n",
    "\n",
    "Presented by: Muhammad Anisur Rahman"
   ],
   "cell_type": "markdown",
   "metadata": {}
  },
  {
   "source": [
    "                                                                Table of Contents\n",
    "                                             \n",
    "\n",
    "\n",
    "1. Python Quick Review \n",
    "\n",
    "    Tips for Faster Learning\n",
    "\n",
    "2. Overview & Objectives \n",
    "\n",
    "    Data Analysis vs Data Science vs Machine Learning \n",
    "\n",
    "    Possibilities \n",
    "\n",
    "    Limitations of Data Analysis & Machine Learning \n",
    "\n",
    "    Accuracy & Performance\n",
    "\n",
    "3. A Quick Example \n",
    "\n",
    "    Iris Dataset Potential & Implications\n",
    "\n",
    "4. Getting & Processing \n",
    "\n",
    "    Data CSV Files \n",
    "\n",
    "    Feature Selection \n",
    "\n",
    "    Online Data Sources \n",
    "\n",
    "    Internal Data Source\n",
    "\n",
    "5. Data Visualization \n",
    "\n",
    "    Goal of Visualization \n",
    "\n",
    "    Importing & Using Matplotlib\n",
    "\n",
    "6. Supervised & Unsupervised Learning\n",
    "\n",
    "    What is Supervised Learning? \n",
    "\n",
    "    What is Unsupervised Learning? \n",
    "\n",
    "    How to Approach a Problem\n",
    "\n",
    "7. Regression \n",
    "\n",
    "    Simple Linear Regression \n",
    "\n",
    "    Multiple Linear Regression \n",
    "\n",
    "    Decision Tree \n",
    "\n",
    "    Random Forest\n",
    "\n",
    "8. Classification \n",
    "\n",
    "    Logistic Regression \n",
    "\n",
    "    K-Nearest Neighbors \n",
    "\n",
    "    Decision Tree Classification \n",
    "\n",
    "    Random Forest Classification\n",
    "\n",
    "9. Clustering \n",
    "\n",
    "    Goals & Uses of Clustering \n",
    "\n",
    "    K-Means Clustering \n",
    "\n",
    "    Anomaly Detection \n",
    "\n",
    "10. Association Rule Learning \n",
    "\n",
    "    Explanation \n",
    "\n",
    "    Apriori\n",
    "\n",
    "11. Reinforcement Learning \n",
    "\n",
    "    What is Reinforcement Learning? \n",
    "\n",
    "    Comparison with Supervised & Unsupervised Learning \n",
    "\n",
    "    Applying Reinforcement Learning\n",
    "\n",
    "12. Artificial Neural Networks \n",
    "\n",
    "    An Idea of How the Brain Works \n",
    "\n",
    "    Potential & Constraints \n",
    "\n",
    "    Here’s an Example\n",
    "\n",
    "13. Natural Language Processing \n",
    "\n",
    "    Analyzing Words & Sentiments \n",
    "    \n",
    "    Using NLTK"
   ],
   "cell_type": "markdown",
   "metadata": {}
  },
  {
   "source": [
    "                                                            1. Python Quick Review"
   ],
   "cell_type": "markdown",
   "metadata": {}
  },
  {
   "source": [
    "Mathematical operations"
   ],
   "cell_type": "markdown",
   "metadata": {}
  },
  {
   "cell_type": "code",
   "execution_count": 13,
   "metadata": {},
   "outputs": [
    {
     "output_type": "stream",
     "name": "stdout",
     "text": [
      "6\n6\n10\n4.0\n4\n8\nThor\n11\n15\n"
     ]
    }
   ],
   "source": [
    "print(3+3) \n",
    "print(7-1)\n",
    "print(5*2)\n",
    "print(20/5)\n",
    "print(9%5)\n",
    "print(2**3)\n",
    "myName = \"Thor\"\n",
    "print(myName)\n",
    "x = 5\n",
    "y = 6\n",
    "print(x+y)\n",
    "print(x*3)\n"
   ]
  },
  {
   "source": [
    "Working on strings and variables"
   ],
   "cell_type": "markdown",
   "metadata": {}
  },
  {
   "cell_type": "code",
   "execution_count": 6,
   "metadata": {},
   "outputs": [
    {
     "output_type": "stream",
     "name": "stdout",
     "text": [
      "Hi, my name is Thor and my age is 25. Anyway, my hobby is programming.\n"
     ]
    }
   ],
   "source": [
    "myName = \"Thor\"\n",
    "age = 25\n",
    "hobby = \"programming\"\n",
    "\n",
    "print(\"Hi, my name is \" + myName + \" and my age is \" + str(age) + \". Anyway, my hobby is \" + hobby + \".\")"
   ]
  },
  {
   "source": [
    "Comments (#)"
   ],
   "cell_type": "markdown",
   "metadata": {}
  },
  {
   "cell_type": "code",
   "execution_count": 7,
   "metadata": {},
   "outputs": [],
   "source": [
    "# This is to keep your sainty.\n",
    "# Make it understandable to you, learners, and other programmers."
   ]
  },
  {
   "source": [
    "Comparison Operators"
   ],
   "cell_type": "markdown",
   "metadata": {}
  },
  {
   "cell_type": "code",
   "execution_count": 12,
   "metadata": {},
   "outputs": [
    {
     "output_type": "stream",
     "name": "stdout",
     "text": [
      "True\nTrue\nFalse\nTrue\nFalse\nFalse\nTrue\nTrue\n"
     ]
    }
   ],
   "source": [
    "print(8 == 8)\n",
    "print(8 > 4)\n",
    "print(8 < 4)\n",
    "print(8 != 4)\n",
    "print(8 != 8)\n",
    "print(8 <= 2)\n",
    "print(\"hello\" == \"hello\")\n",
    "print('cat' != 'dog')\n"
   ]
  },
  {
   "source": [
    "Boolean Operators (and, or, not)"
   ],
   "cell_type": "markdown",
   "metadata": {}
  },
  {
   "cell_type": "code",
   "execution_count": 17,
   "metadata": {},
   "outputs": [
    {
     "output_type": "stream",
     "name": "stdout",
     "text": [
      "True\nFalse\nTrue\nTrue\n"
     ]
    }
   ],
   "source": [
    "print(8>3 and 8>4)\n",
    "print(8>3 and 8>9)\n",
    "print(8>3 or 8>800)\n",
    "print(\"hello\" == \"hello\" or \"cat\" == \"dog\")"
   ]
  },
  {
   "source": [
    "If, Elif, and Else Statements (for Flow Control) "
   ],
   "cell_type": "markdown",
   "metadata": {}
  },
  {
   "cell_type": "code",
   "execution_count": 19,
   "metadata": {},
   "outputs": [
    {
     "output_type": "stream",
     "name": "stdout",
     "text": [
      "What is your email?\n",
      "Type in your password.\n",
      "Your password is incorrect. Plase try again.\n"
     ]
    }
   ],
   "source": [
    "savePassword = \"5T4R4\"\n",
    "\n",
    "print(\"What is your email?\")\n",
    "myEmail = input()\n",
    "print(\"Type in your password.\")\n",
    "typedPassword = input()\n",
    "if typedPassword == savePassword:\n",
    "    print(\"Congratulation! You're now logged in.\")\n",
    "else:\n",
    "    print(\"Your password is incorrect. Plase try again.\")\n"
   ]
  },
  {
   "source": [
    "While loop"
   ],
   "cell_type": "markdown",
   "metadata": {}
  },
  {
   "cell_type": "code",
   "execution_count": 20,
   "metadata": {},
   "outputs": [
    {
     "output_type": "stream",
     "name": "stdout",
     "text": [
      "You have a message.\nYou have a message.\nYou have a message.\nYou have a message.\nYou have a message.\nYou have a message.\nYou have a message.\nYou have a message.\nYou have a message.\nYou have a message.\n"
     ]
    }
   ],
   "source": [
    "inbox = 0\n",
    "while inbox < 10:\n",
    "    print(\"You have a message.\")\n",
    "    inbox = inbox + 1"
   ]
  },
  {
   "source": [
    "Loop doesn’t exit until you typed ‘Casanova’"
   ],
   "cell_type": "markdown",
   "metadata": {}
  },
  {
   "cell_type": "code",
   "execution_count": 21,
   "metadata": {},
   "outputs": [
    {
     "output_type": "stream",
     "name": "stdout",
     "text": [
      "Please type your name.\n",
      "Congratulations!\n",
      "Please type your name.\n",
      "Congratulations!\n",
      "Please type your name.\n",
      "Congratulations!\n",
      "Please type your name.\n",
      "Congratulations!\n",
      "Please type your name.\n",
      "Congratulations!\n",
      "Please type your name.\n",
      "Congratulations!\n",
      "Please type your name.\n",
      "Congratulations!\n"
     ]
    }
   ],
   "source": [
    "name = ''\n",
    "while name != \"Casanova\":\n",
    "    print(\"Please type your name.\")\n",
    "    name = input()\n",
    "    print(\"Congratulations!\")"
   ]
  },
  {
   "source": [
    "For loop"
   ],
   "cell_type": "markdown",
   "metadata": {}
  },
  {
   "cell_type": "code",
   "execution_count": 22,
   "metadata": {},
   "outputs": [
    {
     "output_type": "stream",
     "name": "stdout",
     "text": [
      "0\n1\n4\n9\n16\n25\n36\n49\n64\n81\n"
     ]
    }
   ],
   "source": [
    "for i in range(10):\n",
    "    print(i**2)"
   ]
  },
  {
   "cell_type": "code",
   "execution_count": 25,
   "metadata": {},
   "outputs": [
    {
     "output_type": "stream",
     "name": "stdout",
     "text": [
      "5050\n"
     ]
    }
   ],
   "source": [
    "#Adding numbers from 0 to 100\n",
    "\n",
    "total = 0\n",
    "for num in range(101):\n",
    "    total = total + num\n",
    "print(total)"
   ]
  },
  {
   "cell_type": "code",
   "execution_count": 32,
   "metadata": {},
   "outputs": [
    {
     "output_type": "stream",
     "name": "stdout",
     "text": [
      "Pass\nPass\nPass\nPass\nPass\nFail\nFail\nPass\nFail\nFail\nPass\nPass\nFail\nFail\nFail\nFail\nFail\nPass\nPass\n[5, 5, 4, 4, 5, 5, 5, 4, 5, 5]\n10\n19\n0.5263157894736842\n"
     ]
    }
   ],
   "source": [
    "#Another example. Positive and negative reviews.\n",
    "\n",
    "all_reviews = [5,5,4,4,5,3,2,5,3,2,5,4,3,1,1,2,3,5,5]\n",
    "positive_reviews =[]\n",
    "for i in all_reviews:\n",
    "\n",
    "    if i > 3:\n",
    "        print(\"Pass\")\n",
    "        positive_reviews.append(i)\n",
    "    else:\n",
    "        print(\"Fail\")\n",
    "print(positive_reviews)\n",
    "print(len(positive_reviews))\n",
    "print(len(all_reviews))\n",
    "ratio_positive = len(positive_reviews)/len(all_reviews)\n",
    "print(ratio_positive)"
   ]
  },
  {
   "source": [
    "Functions"
   ],
   "cell_type": "markdown",
   "metadata": {}
  },
  {
   "cell_type": "code",
   "execution_count": 33,
   "metadata": {},
   "outputs": [
    {
     "output_type": "stream",
     "name": "stdout",
     "text": [
      "Hello world!\n"
     ]
    }
   ],
   "source": [
    "def hello():\n",
    "    print(\"Hello world!\")\n",
    "\n",
    "hello()"
   ]
  },
  {
   "source": [
    "Define the function, tell what it should do, and then use or call it later."
   ],
   "cell_type": "markdown",
   "metadata": {}
  },
  {
   "cell_type": "code",
   "execution_count": null,
   "metadata": {},
   "outputs": [],
   "source": []
  }
 ]
}