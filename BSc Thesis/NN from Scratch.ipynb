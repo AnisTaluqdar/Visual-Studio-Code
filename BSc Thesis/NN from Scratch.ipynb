{
 "metadata": {
  "language_info": {
   "codemirror_mode": {
    "name": "ipython",
    "version": 3
   },
   "file_extension": ".py",
   "mimetype": "text/x-python",
   "name": "python",
   "nbconvert_exporter": "python",
   "pygments_lexer": "ipython3",
   "version": "3.9.5"
  },
  "orig_nbformat": 4,
  "kernelspec": {
   "name": "python3",
   "display_name": "Python 3.9.5 64-bit"
  },
  "interpreter": {
   "hash": "c6cdf7320b641c879aa85f55a90f78f0cc6ec9102554fd249e4587df21132c32"
  }
 },
 "nbformat": 4,
 "nbformat_minor": 2,
 "cells": [
  {
   "source": [
    "import numpy as np\n",
    "import pandas as pd\n",
    "from matplotlib import pyplot as plt\n",
    "\n",
    "data = pd.read_csv('MNIST.csv')\n"
   ],
   "cell_type": "code",
   "metadata": {},
   "execution_count": 1,
   "outputs": []
  },
  {
   "cell_type": "code",
   "execution_count": 11,
   "metadata": {},
   "outputs": [],
   "source": [
    "data = np.array(data)\n",
    "m, n = data.shape\n",
    "np.random.shuffle(data) \n",
    "\n",
    "data_dev = data[0:1000].T\n",
    "Y_dev = data_dev[0]\n",
    "X_dev = data_dev[1:n]\n",
    "\n",
    "\n",
    "data_train = data[1000:m].T\n",
    "Y_train = data_train[0]\n",
    "X_train = data_train[1:n]\n"
   ]
  },
  {
   "cell_type": "code",
   "execution_count": 4,
   "metadata": {},
   "outputs": [],
   "source": [
    "def init_params():\n",
    "    W1 = np.random.rand(10, 784) - 0.5\n",
    "    b1 = np.random.rand(10, 1) - 0.5\n",
    "    W2 = np.random.rand(10, 10) - 0.5\n",
    "    b2 = np.random.rand(10, 1) - 0.5\n",
    "    return W1, b1, W2, b2\n",
    "\n",
    "def ReLU(Z):\n",
    "    return np.maximum(Z, 0)\n",
    "\n",
    "def softmax(Z):\n",
    "    A = np.exp(Z) / sum(np.exp(Z))\n",
    "    return A\n",
    "    \n",
    "def forward_prop(W1, b1, W2, b2, X):\n",
    "    Z1 = W1.dot(X) + b1\n",
    "    A1 = ReLU(Z1)\n",
    "    Z2 = W2.dot(A1) + b2\n",
    "    A2 = softmax(Z2)\n",
    "    return Z1, A1, Z2, A2\n",
    "\n",
    "def ReLU_deriv(Z):\n",
    "    return Z > 0\n",
    "\n",
    "def one_hot(Y):\n",
    "    one_hot_Y = np.zeros((Y.size, Y.max() + 1))\n",
    "    one_hot_Y[np.arange(Y.size), Y] = 1\n",
    "    one_hot_Y = one_hot_Y.T\n",
    "    return one_hot_Y\n",
    "\n",
    "def backward_prop(Z1, A1, Z2, A2, W1, W2, X, Y):\n",
    "    one_hot_Y = one_hot(Y)\n",
    "    dZ2 = A2 - one_hot_Y\n",
    "    dW2 = 1 / m * dZ2.dot(A1.T)\n",
    "    db2 = 1 / m * np.sum(dZ2)\n",
    "    dZ1 = W2.T.dot(dZ2) * ReLU_deriv(Z1)\n",
    "    dW1 = 1 / m * dZ1.dot(X.T)\n",
    "    db1 = 1 / m * np.sum(dZ1)\n",
    "    return dW1, db1, dW2, db2\n",
    "\n",
    "def update_params(W1, b1, W2, b2, dW1, db1, dW2, db2, alpha):\n",
    "    W1 = W1 - alpha * dW1\n",
    "    b1 = b1 - alpha * db1    \n",
    "    W2 = W2 - alpha * dW2  \n",
    "    b2 = b2 - alpha * db2    \n",
    "    return W1, b1, W2, b2"
   ]
  },
  {
   "cell_type": "code",
   "execution_count": 5,
   "metadata": {},
   "outputs": [],
   "source": [
    "def get_predictions(A2):\n",
    "    return np.argmax(A2, 0)\n",
    "\n",
    "def get_accuracy(predictions, Y):\n",
    "    print(predictions, Y)\n",
    "    return np.sum(predictions == Y) / Y.size\n",
    "\n",
    "def gradient_descent(X, Y, alpha, iterations):\n",
    "    W1, b1, W2, b2 = init_params()\n",
    "    for i in range(iterations):\n",
    "        Z1, A1, Z2, A2 = forward_prop(W1, b1, W2, b2, X)\n",
    "        dW1, db1, dW2, db2 = backward_prop(Z1, A1, Z2, A2, W1, W2, X, Y)\n",
    "        W1, b1, W2, b2 = update_params(W1, b1, W2, b2, dW1, db1, dW2, db2, alpha)\n",
    "        if i % 10 == 0:\n",
    "            print(\"Iteration: \", i)\n",
    "            predictions = get_predictions(A2)\n",
    "            print(get_accuracy(predictions, Y))\n",
    "    return W1, b1, W2, b2\n"
   ]
  },
  {
   "cell_type": "code",
   "execution_count": 6,
   "metadata": {},
   "outputs": [
    {
     "output_type": "stream",
     "name": "stdout",
     "text": [
      "Iteration:  0\n",
      "[3 6 3 ... 3 3 3] [5 3 4 ... 0 5 8]\n",
      "0.09890243902439025\n",
      "Iteration:  10\n",
      "[3 6 4 ... 4 3 7] [5 3 4 ... 0 5 8]\n",
      "0.19014634146341464\n",
      "Iteration:  20\n",
      "[3 6 5 ... 0 3 8] [5 3 4 ... 0 5 8]\n",
      "0.27839024390243905\n",
      "Iteration:  30\n",
      "[4 6 9 ... 0 3 8] [5 3 4 ... 0 5 8]\n",
      "0.33134146341463416\n",
      "Iteration:  40\n",
      "[4 6 9 ... 0 3 8] [5 3 4 ... 0 5 8]\n",
      "0.37034146341463414\n",
      "Iteration:  50\n",
      "[4 6 9 ... 0 2 8] [5 3 4 ... 0 5 8]\n",
      "0.4036829268292683\n",
      "Iteration:  60\n",
      "[0 6 9 ... 0 2 8] [5 3 4 ... 0 5 8]\n",
      "0.4373658536585366\n",
      "Iteration:  70\n",
      "[5 2 9 ... 0 2 8] [5 3 4 ... 0 5 8]\n",
      "0.4723414634146341\n",
      "Iteration:  80\n",
      "[5 2 9 ... 0 2 8] [5 3 4 ... 0 5 8]\n",
      "0.5068292682926829\n",
      "Iteration:  90\n",
      "[5 2 9 ... 0 2 8] [5 3 4 ... 0 5 8]\n",
      "0.5414146341463415\n",
      "Iteration:  100\n",
      "[5 2 9 ... 0 8 8] [5 3 4 ... 0 5 8]\n",
      "0.5731951219512195\n",
      "Iteration:  110\n",
      "[5 2 9 ... 0 8 8] [5 3 4 ... 0 5 8]\n",
      "0.6023658536585366\n",
      "Iteration:  120\n",
      "[5 2 9 ... 0 8 8] [5 3 4 ... 0 5 8]\n",
      "0.6289268292682927\n",
      "Iteration:  130\n",
      "[5 2 9 ... 0 8 8] [5 3 4 ... 0 5 8]\n",
      "0.6509512195121951\n",
      "Iteration:  140\n",
      "[5 3 9 ... 0 5 8] [5 3 4 ... 0 5 8]\n",
      "0.6702926829268293\n",
      "Iteration:  150\n",
      "[5 3 9 ... 0 5 8] [5 3 4 ... 0 5 8]\n",
      "0.6882439024390243\n",
      "Iteration:  160\n",
      "[5 8 9 ... 0 5 8] [5 3 4 ... 0 5 8]\n",
      "0.7026341463414634\n",
      "Iteration:  170\n",
      "[5 8 9 ... 0 5 8] [5 3 4 ... 0 5 8]\n",
      "0.716780487804878\n",
      "Iteration:  180\n",
      "[5 8 9 ... 0 5 8] [5 3 4 ... 0 5 8]\n",
      "0.728170731707317\n",
      "Iteration:  190\n",
      "[5 8 9 ... 0 5 8] [5 3 4 ... 0 5 8]\n",
      "0.7389268292682927\n",
      "Iteration:  200\n",
      "[5 8 4 ... 0 5 8] [5 3 4 ... 0 5 8]\n",
      "0.7493414634146341\n",
      "Iteration:  210\n",
      "[5 8 4 ... 0 5 8] [5 3 4 ... 0 5 8]\n",
      "0.757609756097561\n",
      "Iteration:  220\n",
      "[5 8 4 ... 0 5 8] [5 3 4 ... 0 5 8]\n",
      "0.7644634146341464\n",
      "Iteration:  230\n",
      "[5 8 4 ... 0 5 8] [5 3 4 ... 0 5 8]\n",
      "0.7720243902439025\n",
      "Iteration:  240\n",
      "[5 8 4 ... 0 5 8] [5 3 4 ... 0 5 8]\n",
      "0.7787317073170732\n",
      "Iteration:  250\n",
      "[5 8 4 ... 0 5 8] [5 3 4 ... 0 5 8]\n",
      "0.7847560975609756\n",
      "Iteration:  260\n",
      "[5 8 4 ... 0 5 8] [5 3 4 ... 0 5 8]\n",
      "0.7903414634146342\n",
      "Iteration:  270\n",
      "[5 8 4 ... 0 5 8] [5 3 4 ... 0 5 8]\n",
      "0.795\n",
      "Iteration:  280\n",
      "[5 8 4 ... 0 5 8] [5 3 4 ... 0 5 8]\n",
      "0.7995853658536586\n",
      "Iteration:  290\n",
      "[5 8 4 ... 0 5 8] [5 3 4 ... 0 5 8]\n",
      "0.8037073170731708\n",
      "Iteration:  300\n",
      "[5 8 4 ... 0 5 8] [5 3 4 ... 0 5 8]\n",
      "0.8078048780487805\n",
      "Iteration:  310\n",
      "[5 8 4 ... 0 5 8] [5 3 4 ... 0 5 8]\n",
      "0.8112926829268293\n",
      "Iteration:  320\n",
      "[5 8 4 ... 0 5 8] [5 3 4 ... 0 5 8]\n",
      "0.814560975609756\n",
      "Iteration:  330\n",
      "[5 8 4 ... 0 5 8] [5 3 4 ... 0 5 8]\n",
      "0.8178292682926829\n",
      "Iteration:  340\n",
      "[5 8 4 ... 0 5 8] [5 3 4 ... 0 5 8]\n",
      "0.8208780487804878\n",
      "Iteration:  350\n",
      "[5 8 4 ... 0 5 8] [5 3 4 ... 0 5 8]\n",
      "0.8236585365853658\n",
      "Iteration:  360\n",
      "[5 8 4 ... 0 5 8] [5 3 4 ... 0 5 8]\n",
      "0.8266341463414634\n",
      "Iteration:  370\n",
      "[5 8 4 ... 0 5 8] [5 3 4 ... 0 5 8]\n",
      "0.8292682926829268\n",
      "Iteration:  380\n",
      "[5 8 4 ... 0 5 8] [5 3 4 ... 0 5 8]\n",
      "0.8315609756097561\n",
      "Iteration:  390\n",
      "[5 8 4 ... 0 5 8] [5 3 4 ... 0 5 8]\n",
      "0.8335365853658536\n",
      "Iteration:  400\n",
      "[5 8 4 ... 0 5 8] [5 3 4 ... 0 5 8]\n",
      "0.8361219512195122\n",
      "Iteration:  410\n",
      "[5 8 4 ... 0 5 8] [5 3 4 ... 0 5 8]\n",
      "0.8379268292682926\n",
      "Iteration:  420\n",
      "[5 8 4 ... 0 5 8] [5 3 4 ... 0 5 8]\n",
      "0.8394878048780487\n",
      "Iteration:  430\n",
      "[5 8 4 ... 0 5 8] [5 3 4 ... 0 5 8]\n",
      "0.8412926829268292\n",
      "Iteration:  440\n",
      "[5 8 4 ... 0 5 8] [5 3 4 ... 0 5 8]\n",
      "0.8427073170731707\n",
      "Iteration:  450\n",
      "[5 8 4 ... 0 5 8] [5 3 4 ... 0 5 8]\n",
      "0.8448292682926829\n",
      "Iteration:  460\n",
      "[5 8 4 ... 0 5 8] [5 3 4 ... 0 5 8]\n",
      "0.846609756097561\n",
      "Iteration:  470\n",
      "[5 8 4 ... 0 5 8] [5 3 4 ... 0 5 8]\n",
      "0.848390243902439\n",
      "Iteration:  480\n",
      "[5 8 4 ... 0 5 8] [5 3 4 ... 0 5 8]\n",
      "0.8495853658536585\n",
      "Iteration:  490\n",
      "[5 8 4 ... 0 5 8] [5 3 4 ... 0 5 8]\n",
      "0.850780487804878\n"
     ]
    }
   ],
   "source": [
    "W1, b1, W2, b2 = gradient_descent(X_train, Y_train, 0.10, 500)"
   ]
  },
  {
   "cell_type": "code",
   "execution_count": 8,
   "metadata": {},
   "outputs": [],
   "source": [
    "def make_predictions(X, W1, b1, W2, b2):\n",
    "    _, _, _, A2 = forward_prop(W1, b1, W2, b2, X)\n",
    "    predictions = get_predictions(A2)\n",
    "    return predictions\n",
    "\n",
    "def test_prediction(index, W1, b1, W2, b2):\n",
    "    current_image = X_train[:, index, None]\n",
    "    prediction = make_predictions(X_train[:, index, None], W1, b1, W2, b2)\n",
    "    label = Y_train[index]\n",
    "    print(\"Prediction: \", prediction)\n",
    "    print(\"Label: \", label)\n",
    "    \n",
    "    current_image = current_image.reshape((28, 28)) * 255\n",
    "    plt.gray()\n",
    "    plt.imshow(current_image, interpolation='nearest')\n",
    "    plt.show()"
   ]
  },
  {
   "cell_type": "code",
   "execution_count": 9,
   "metadata": {},
   "outputs": [
    {
     "output_type": "stream",
     "name": "stdout",
     "text": [
      "Prediction:  [5]\nLabel:  5\n"
     ]
    },
    {
     "output_type": "display_data",
     "data": {
      "text/plain": "<Figure size 432x288 with 1 Axes>",
      "image/svg+xml": "<?xml version=\"1.0\" encoding=\"utf-8\" standalone=\"no\"?>\r\n<!DOCTYPE svg PUBLIC \"-//W3C//DTD SVG 1.1//EN\"\r\n  \"http://www.w3.org/Graphics/SVG/1.1/DTD/svg11.dtd\">\r\n<svg height=\"248.518125pt\" version=\"1.1\" viewBox=\"0 0 251.565 248.518125\" width=\"251.565pt\" xmlns=\"http://www.w3.org/2000/svg\" xmlns:xlink=\"http://www.w3.org/1999/xlink\">\r\n <metadata>\r\n  <rdf:RDF xmlns:cc=\"http://creativecommons.org/ns#\" xmlns:dc=\"http://purl.org/dc/elements/1.1/\" xmlns:rdf=\"http://www.w3.org/1999/02/22-rdf-syntax-ns#\">\r\n   <cc:Work>\r\n    <dc:type rdf:resource=\"http://purl.org/dc/dcmitype/StillImage\"/>\r\n    <dc:date>2021-07-20T11:23:24.274643</dc:date>\r\n    <dc:format>image/svg+xml</dc:format>\r\n    <dc:creator>\r\n     <cc:Agent>\r\n      <dc:title>Matplotlib v3.4.2, https://matplotlib.org/</dc:title>\r\n     </cc:Agent>\r\n    </dc:creator>\r\n   </cc:Work>\r\n  </rdf:RDF>\r\n </metadata>\r\n <defs>\r\n  <style type=\"text/css\">*{stroke-linecap:butt;stroke-linejoin:round;}</style>\r\n </defs>\r\n <g id=\"figure_1\">\r\n  <g id=\"patch_1\">\r\n   <path d=\"M 0 248.518125 \r\nL 251.565 248.518125 \r\nL 251.565 0 \r\nL 0 0 \r\nz\r\n\" style=\"fill:none;\"/>\r\n  </g>\r\n  <g id=\"axes_1\">\r\n   <g id=\"patch_2\">\r\n    <path d=\"M 26.925 224.64 \r\nL 244.365 224.64 \r\nL 244.365 7.2 \r\nL 26.925 7.2 \r\nz\r\n\" style=\"fill:#ffffff;\"/>\r\n   </g>\r\n   <g clip-path=\"url(#p29f9ac1fc9)\">\r\n    <image height=\"218\" id=\"imagedbdecb8dd6\" transform=\"scale(1 -1)translate(0 -218)\" width=\"218\" x=\"26.925\" xlink:href=\"data:image/png;base64,\r\niVBORw0KGgoAAAANSUhEUgAAANoAAADaCAYAAADAHVzbAAAEOUlEQVR4nO3dW2rjWBRAUampeSU1Mjsjczyy9F9BQ3EvRK0tyVnr1/hRTm0u6HCsdVmWrwXY1T9HfwD4CYQGAaFBQGgQEBoEhAYBoUFAaBAQGgSEBgGhQUBoEBAaBIQGAaFBQGgQEBoEhAYBoUFAaBAQGgSEBgGhQUBoEBAaBIQGAaFBQGgQEBoEhAaBX0d/gKu63+/ffu7b29vw8ff392+/9lafn5/Dx5/P56bX3/K9XZkTDQJCg4DQICA0CAgNAkKDgNAgsC7L8nX0hzjCbJ5zu92aD8Ifv3//Hj4+m/GdmRMNAkKDgNAgIDQICA0CQoOA0CDwsnO0x+MxfPzMO18fHx+bnj8z+rfPvrcjXXnO5kSDgNAgIDQICA0CQoOA0CAgNAhceo422inbuk929Kzrqo7c81vXdbfX3sqJBgGhQUBoEBAaBIQGAaFBwG2bvumnXr6fmV3eH92y6sjVpb050SAgNAgIDQJCg4DQICA0CAgNApdekxmZzWRmj4/mPcsy/+kz/u7ra7//btZk4IcTGgSEBgGhQUBoEBAaBIQGgZfdR5vti9kn28eeO2VX/ps50SAgNAgIDQJCg4DQICA0CAgNAi87R2MfsznZ4/HY7b1nt8o6MycaBIQGAaFBQGgQEBoEhAaBS1/eH11qvvJKxZndbrfdXnt2+f7Kf1MnGgSEBgGhQUBoEBAaBIQGAaFB4NRztC23+JnNXH7ybZdG88ett7uaGf1d7vf7ptc+MycaBIQGAaFBQGgQEBoEhAYBoUFgXZbl+8OqnW2Zox1ttFu1507X0WY7Za88KxtxokFAaBAQGgSEBgGhQUBoEBAaBMzRXtCetzea7fld+bcX9+REg4DQICA0CAgNAkKDgNAgIDQInHqONvsNwdFe1+y567pueu+Z0Txpz9fmnJxoEBAaBIQGAaFBQGgQEBoETn15f2bLGs3stk0uofN/cqJBQGgQEBoEhAYBoUFAaBAQGgR+Hf0Btthya6TZqspsjrZlhWc2w+P1ONEgIDQICA0CQoOA0CAgNAgIDQKXnqNtMZuz3e/34eOzOdro8cfjMXzu7LZLduWux4kGAaFBQGgQEBoEhAYBoUFAaBC49BxtNus6qy0zuGWZz9G27LvNvtPZe5vx/Z0TDQJCg4DQICA0CAgNAkKDgNAgcOn7o53ZaOdsNic7s9mc7Pl8Hvbes+/1yLmrEw0CQoOA0CAgNAgIDQJCg4DL+ye09TL07Kf0fqrZ+tCeKz5ONAgIDQJCg4DQICA0CAgNAkKDgDka/7H3KsmeM751XXd77a2caBAQGgSEBgGhQUBoEBAaBIQGAXM0CDjRICA0CAgNAkKDgNAgIDQICA0CQoOA0CAgNAgIDQJCg4DQICA0CAgNAkKDgNAgIDQICA0CQoOA0CAgNAgIDQJCg4DQICA0CAgNAkKDgNAgIDQI/AtY3rmqHb0yqwAAAABJRU5ErkJggg==\" y=\"-6.64\"/>\r\n   </g>\r\n   <g id=\"matplotlib.axis_1\">\r\n    <g id=\"xtick_1\">\r\n     <g id=\"line2d_1\">\r\n      <defs>\r\n       <path d=\"M 0 0 \r\nL 0 3.5 \r\n\" id=\"m700e8cc90f\" style=\"stroke:#000000;stroke-width:0.8;\"/>\r\n      </defs>\r\n      <g>\r\n       <use style=\"stroke:#000000;stroke-width:0.8;\" x=\"30.807857\" xlink:href=\"#m700e8cc90f\" y=\"224.64\"/>\r\n      </g>\r\n     </g>\r\n     <g id=\"text_1\">\r\n      <!-- 0 -->\r\n      <g transform=\"translate(27.626607 239.238437)scale(0.1 -0.1)\">\r\n       <defs>\r\n        <path d=\"M 2034 4250 \r\nQ 1547 4250 1301 3770 \r\nQ 1056 3291 1056 2328 \r\nQ 1056 1369 1301 889 \r\nQ 1547 409 2034 409 \r\nQ 2525 409 2770 889 \r\nQ 3016 1369 3016 2328 \r\nQ 3016 3291 2770 3770 \r\nQ 2525 4250 2034 4250 \r\nz\r\nM 2034 4750 \r\nQ 2819 4750 3233 4129 \r\nQ 3647 3509 3647 2328 \r\nQ 3647 1150 3233 529 \r\nQ 2819 -91 2034 -91 \r\nQ 1250 -91 836 529 \r\nQ 422 1150 422 2328 \r\nQ 422 3509 836 4129 \r\nQ 1250 4750 2034 4750 \r\nz\r\n\" id=\"DejaVuSans-30\" transform=\"scale(0.015625)\"/>\r\n       </defs>\r\n       <use xlink:href=\"#DejaVuSans-30\"/>\r\n      </g>\r\n     </g>\r\n    </g>\r\n    <g id=\"xtick_2\">\r\n     <g id=\"line2d_2\">\r\n      <g>\r\n       <use style=\"stroke:#000000;stroke-width:0.8;\" x=\"69.636429\" xlink:href=\"#m700e8cc90f\" y=\"224.64\"/>\r\n      </g>\r\n     </g>\r\n     <g id=\"text_2\">\r\n      <!-- 5 -->\r\n      <g transform=\"translate(66.455179 239.238437)scale(0.1 -0.1)\">\r\n       <defs>\r\n        <path d=\"M 691 4666 \r\nL 3169 4666 \r\nL 3169 4134 \r\nL 1269 4134 \r\nL 1269 2991 \r\nQ 1406 3038 1543 3061 \r\nQ 1681 3084 1819 3084 \r\nQ 2600 3084 3056 2656 \r\nQ 3513 2228 3513 1497 \r\nQ 3513 744 3044 326 \r\nQ 2575 -91 1722 -91 \r\nQ 1428 -91 1123 -41 \r\nQ 819 9 494 109 \r\nL 494 744 \r\nQ 775 591 1075 516 \r\nQ 1375 441 1709 441 \r\nQ 2250 441 2565 725 \r\nQ 2881 1009 2881 1497 \r\nQ 2881 1984 2565 2268 \r\nQ 2250 2553 1709 2553 \r\nQ 1456 2553 1204 2497 \r\nQ 953 2441 691 2322 \r\nL 691 4666 \r\nz\r\n\" id=\"DejaVuSans-35\" transform=\"scale(0.015625)\"/>\r\n       </defs>\r\n       <use xlink:href=\"#DejaVuSans-35\"/>\r\n      </g>\r\n     </g>\r\n    </g>\r\n    <g id=\"xtick_3\">\r\n     <g id=\"line2d_3\">\r\n      <g>\r\n       <use style=\"stroke:#000000;stroke-width:0.8;\" x=\"108.465\" xlink:href=\"#m700e8cc90f\" y=\"224.64\"/>\r\n      </g>\r\n     </g>\r\n     <g id=\"text_3\">\r\n      <!-- 10 -->\r\n      <g transform=\"translate(102.1025 239.238437)scale(0.1 -0.1)\">\r\n       <defs>\r\n        <path d=\"M 794 531 \r\nL 1825 531 \r\nL 1825 4091 \r\nL 703 3866 \r\nL 703 4441 \r\nL 1819 4666 \r\nL 2450 4666 \r\nL 2450 531 \r\nL 3481 531 \r\nL 3481 0 \r\nL 794 0 \r\nL 794 531 \r\nz\r\n\" id=\"DejaVuSans-31\" transform=\"scale(0.015625)\"/>\r\n       </defs>\r\n       <use xlink:href=\"#DejaVuSans-31\"/>\r\n       <use x=\"63.623047\" xlink:href=\"#DejaVuSans-30\"/>\r\n      </g>\r\n     </g>\r\n    </g>\r\n    <g id=\"xtick_4\">\r\n     <g id=\"line2d_4\">\r\n      <g>\r\n       <use style=\"stroke:#000000;stroke-width:0.8;\" x=\"147.293571\" xlink:href=\"#m700e8cc90f\" y=\"224.64\"/>\r\n      </g>\r\n     </g>\r\n     <g id=\"text_4\">\r\n      <!-- 15 -->\r\n      <g transform=\"translate(140.931071 239.238437)scale(0.1 -0.1)\">\r\n       <use xlink:href=\"#DejaVuSans-31\"/>\r\n       <use x=\"63.623047\" xlink:href=\"#DejaVuSans-35\"/>\r\n      </g>\r\n     </g>\r\n    </g>\r\n    <g id=\"xtick_5\">\r\n     <g id=\"line2d_5\">\r\n      <g>\r\n       <use style=\"stroke:#000000;stroke-width:0.8;\" x=\"186.122143\" xlink:href=\"#m700e8cc90f\" y=\"224.64\"/>\r\n      </g>\r\n     </g>\r\n     <g id=\"text_5\">\r\n      <!-- 20 -->\r\n      <g transform=\"translate(179.759643 239.238437)scale(0.1 -0.1)\">\r\n       <defs>\r\n        <path d=\"M 1228 531 \r\nL 3431 531 \r\nL 3431 0 \r\nL 469 0 \r\nL 469 531 \r\nQ 828 903 1448 1529 \r\nQ 2069 2156 2228 2338 \r\nQ 2531 2678 2651 2914 \r\nQ 2772 3150 2772 3378 \r\nQ 2772 3750 2511 3984 \r\nQ 2250 4219 1831 4219 \r\nQ 1534 4219 1204 4116 \r\nQ 875 4013 500 3803 \r\nL 500 4441 \r\nQ 881 4594 1212 4672 \r\nQ 1544 4750 1819 4750 \r\nQ 2544 4750 2975 4387 \r\nQ 3406 4025 3406 3419 \r\nQ 3406 3131 3298 2873 \r\nQ 3191 2616 2906 2266 \r\nQ 2828 2175 2409 1742 \r\nQ 1991 1309 1228 531 \r\nz\r\n\" id=\"DejaVuSans-32\" transform=\"scale(0.015625)\"/>\r\n       </defs>\r\n       <use xlink:href=\"#DejaVuSans-32\"/>\r\n       <use x=\"63.623047\" xlink:href=\"#DejaVuSans-30\"/>\r\n      </g>\r\n     </g>\r\n    </g>\r\n    <g id=\"xtick_6\">\r\n     <g id=\"line2d_6\">\r\n      <g>\r\n       <use style=\"stroke:#000000;stroke-width:0.8;\" x=\"224.950714\" xlink:href=\"#m700e8cc90f\" y=\"224.64\"/>\r\n      </g>\r\n     </g>\r\n     <g id=\"text_6\">\r\n      <!-- 25 -->\r\n      <g transform=\"translate(218.588214 239.238437)scale(0.1 -0.1)\">\r\n       <use xlink:href=\"#DejaVuSans-32\"/>\r\n       <use x=\"63.623047\" xlink:href=\"#DejaVuSans-35\"/>\r\n      </g>\r\n     </g>\r\n    </g>\r\n   </g>\r\n   <g id=\"matplotlib.axis_2\">\r\n    <g id=\"ytick_1\">\r\n     <g id=\"line2d_7\">\r\n      <defs>\r\n       <path d=\"M 0 0 \r\nL -3.5 0 \r\n\" id=\"mae21cf800d\" style=\"stroke:#000000;stroke-width:0.8;\"/>\r\n      </defs>\r\n      <g>\r\n       <use style=\"stroke:#000000;stroke-width:0.8;\" x=\"26.925\" xlink:href=\"#mae21cf800d\" y=\"11.082857\"/>\r\n      </g>\r\n     </g>\r\n     <g id=\"text_7\">\r\n      <!-- 0 -->\r\n      <g transform=\"translate(13.5625 14.882076)scale(0.1 -0.1)\">\r\n       <use xlink:href=\"#DejaVuSans-30\"/>\r\n      </g>\r\n     </g>\r\n    </g>\r\n    <g id=\"ytick_2\">\r\n     <g id=\"line2d_8\">\r\n      <g>\r\n       <use style=\"stroke:#000000;stroke-width:0.8;\" x=\"26.925\" xlink:href=\"#mae21cf800d\" y=\"49.911429\"/>\r\n      </g>\r\n     </g>\r\n     <g id=\"text_8\">\r\n      <!-- 5 -->\r\n      <g transform=\"translate(13.5625 53.710647)scale(0.1 -0.1)\">\r\n       <use xlink:href=\"#DejaVuSans-35\"/>\r\n      </g>\r\n     </g>\r\n    </g>\r\n    <g id=\"ytick_3\">\r\n     <g id=\"line2d_9\">\r\n      <g>\r\n       <use style=\"stroke:#000000;stroke-width:0.8;\" x=\"26.925\" xlink:href=\"#mae21cf800d\" y=\"88.74\"/>\r\n      </g>\r\n     </g>\r\n     <g id=\"text_9\">\r\n      <!-- 10 -->\r\n      <g transform=\"translate(7.2 92.539219)scale(0.1 -0.1)\">\r\n       <use xlink:href=\"#DejaVuSans-31\"/>\r\n       <use x=\"63.623047\" xlink:href=\"#DejaVuSans-30\"/>\r\n      </g>\r\n     </g>\r\n    </g>\r\n    <g id=\"ytick_4\">\r\n     <g id=\"line2d_10\">\r\n      <g>\r\n       <use style=\"stroke:#000000;stroke-width:0.8;\" x=\"26.925\" xlink:href=\"#mae21cf800d\" y=\"127.568571\"/>\r\n      </g>\r\n     </g>\r\n     <g id=\"text_10\">\r\n      <!-- 15 -->\r\n      <g transform=\"translate(7.2 131.36779)scale(0.1 -0.1)\">\r\n       <use xlink:href=\"#DejaVuSans-31\"/>\r\n       <use x=\"63.623047\" xlink:href=\"#DejaVuSans-35\"/>\r\n      </g>\r\n     </g>\r\n    </g>\r\n    <g id=\"ytick_5\">\r\n     <g id=\"line2d_11\">\r\n      <g>\r\n       <use style=\"stroke:#000000;stroke-width:0.8;\" x=\"26.925\" xlink:href=\"#mae21cf800d\" y=\"166.397143\"/>\r\n      </g>\r\n     </g>\r\n     <g id=\"text_11\">\r\n      <!-- 20 -->\r\n      <g transform=\"translate(7.2 170.196362)scale(0.1 -0.1)\">\r\n       <use xlink:href=\"#DejaVuSans-32\"/>\r\n       <use x=\"63.623047\" xlink:href=\"#DejaVuSans-30\"/>\r\n      </g>\r\n     </g>\r\n    </g>\r\n    <g id=\"ytick_6\">\r\n     <g id=\"line2d_12\">\r\n      <g>\r\n       <use style=\"stroke:#000000;stroke-width:0.8;\" x=\"26.925\" xlink:href=\"#mae21cf800d\" y=\"205.225714\"/>\r\n      </g>\r\n     </g>\r\n     <g id=\"text_12\">\r\n      <!-- 25 -->\r\n      <g transform=\"translate(7.2 209.024933)scale(0.1 -0.1)\">\r\n       <use xlink:href=\"#DejaVuSans-32\"/>\r\n       <use x=\"63.623047\" xlink:href=\"#DejaVuSans-35\"/>\r\n      </g>\r\n     </g>\r\n    </g>\r\n   </g>\r\n   <g id=\"patch_3\">\r\n    <path d=\"M 26.925 224.64 \r\nL 26.925 7.2 \r\n\" style=\"fill:none;stroke:#000000;stroke-linecap:square;stroke-linejoin:miter;stroke-width:0.8;\"/>\r\n   </g>\r\n   <g id=\"patch_4\">\r\n    <path d=\"M 244.365 224.64 \r\nL 244.365 7.2 \r\n\" style=\"fill:none;stroke:#000000;stroke-linecap:square;stroke-linejoin:miter;stroke-width:0.8;\"/>\r\n   </g>\r\n   <g id=\"patch_5\">\r\n    <path d=\"M 26.925 224.64 \r\nL 244.365 224.64 \r\n\" style=\"fill:none;stroke:#000000;stroke-linecap:square;stroke-linejoin:miter;stroke-width:0.8;\"/>\r\n   </g>\r\n   <g id=\"patch_6\">\r\n    <path d=\"M 26.925 7.2 \r\nL 244.365 7.2 \r\n\" style=\"fill:none;stroke:#000000;stroke-linecap:square;stroke-linejoin:miter;stroke-width:0.8;\"/>\r\n   </g>\r\n  </g>\r\n </g>\r\n <defs>\r\n  <clipPath id=\"p29f9ac1fc9\">\r\n   <rect height=\"217.44\" width=\"217.44\" x=\"26.925\" y=\"7.2\"/>\r\n  </clipPath>\r\n </defs>\r\n</svg>\r\n",
      "image/png": "[encoded data removed]"
     },
     "metadata": {
      "needs_background": "light"
     }
    },
    {
     "output_type": "stream",
     "name": "stdout",
     "text": [
      "Prediction:  [8]\nLabel:  3\n"
     ]
    },
    {
     "output_type": "display_data",
     "data": {
      "text/plain": "<Figure size 432x288 with 1 Axes>",
      "image/svg+xml": "<?xml version=\"1.0\" encoding=\"utf-8\" standalone=\"no\"?>\r\n<!DOCTYPE svg PUBLIC \"-//W3C//DTD SVG 1.1//EN\"\r\n  \"http://www.w3.org/Graphics/SVG/1.1/DTD/svg11.dtd\">\r\n<svg height=\"248.518125pt\" version=\"1.1\" viewBox=\"0 0 251.565 248.518125\" width=\"251.565pt\" xmlns=\"http://www.w3.org/2000/svg\" xmlns:xlink=\"http://www.w3.org/1999/xlink\">\r\n <metadata>\r\n  <rdf:RDF xmlns:cc=\"http://creativecommons.org/ns#\" xmlns:dc=\"http://purl.org/dc/elements/1.1/\" xmlns:rdf=\"http://www.w3.org/1999/02/22-rdf-syntax-ns#\">\r\n   <cc:Work>\r\n    <dc:type rdf:resource=\"http://purl.org/dc/dcmitype/StillImage\"/>\r\n    <dc:date>2021-07-20T11:23:24.611645</dc:date>\r\n    <dc:format>image/svg+xml</dc:format>\r\n    <dc:creator>\r\n     <cc:Agent>\r\n      <dc:title>Matplotlib v3.4.2, https://matplotlib.org/</dc:title>\r\n     </cc:Agent>\r\n    </dc:creator>\r\n   </cc:Work>\r\n  </rdf:RDF>\r\n </metadata>\r\n <defs>\r\n  <style type=\"text/css\">*{stroke-linecap:butt;stroke-linejoin:round;}</style>\r\n </defs>\r\n <g id=\"figure_1\">\r\n  <g id=\"patch_1\">\r\n   <path d=\"M 0 248.518125 \r\nL 251.565 248.518125 \r\nL 251.565 0 \r\nL 0 0 \r\nz\r\n\" style=\"fill:none;\"/>\r\n  </g>\r\n  <g id=\"axes_1\">\r\n   <g id=\"patch_2\">\r\n    <path d=\"M 26.925 224.64 \r\nL 244.365 224.64 \r\nL 244.365 7.2 \r\nL 26.925 7.2 \r\nz\r\n\" style=\"fill:#ffffff;\"/>\r\n   </g>\r\n   <g clip-path=\"url(#p77d7a6dddb)\">\r\n    <image height=\"218\" id=\"image94746a1df2\" transform=\"scale(1 -1)translate(0 -218)\" width=\"218\" x=\"26.925\" xlink:href=\"data:image/png;base64,\r\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\" y=\"-6.64\"/>\r\n   </g>\r\n   <g id=\"matplotlib.axis_1\">\r\n    <g id=\"xtick_1\">\r\n     <g id=\"line2d_1\">\r\n      <defs>\r\n       <path d=\"M 0 0 \r\nL 0 3.5 \r\n\" id=\"ma389aca092\" style=\"stroke:#000000;stroke-width:0.8;\"/>\r\n      </defs>\r\n      <g>\r\n       <use style=\"stroke:#000000;stroke-width:0.8;\" x=\"30.807857\" xlink:href=\"#ma389aca092\" y=\"224.64\"/>\r\n      </g>\r\n     </g>\r\n     <g id=\"text_1\">\r\n      <!-- 0 -->\r\n      <g transform=\"translate(27.626607 239.238437)scale(0.1 -0.1)\">\r\n       <defs>\r\n        <path d=\"M 2034 4250 \r\nQ 1547 4250 1301 3770 \r\nQ 1056 3291 1056 2328 \r\nQ 1056 1369 1301 889 \r\nQ 1547 409 2034 409 \r\nQ 2525 409 2770 889 \r\nQ 3016 1369 3016 2328 \r\nQ 3016 3291 2770 3770 \r\nQ 2525 4250 2034 4250 \r\nz\r\nM 2034 4750 \r\nQ 2819 4750 3233 4129 \r\nQ 3647 3509 3647 2328 \r\nQ 3647 1150 3233 529 \r\nQ 2819 -91 2034 -91 \r\nQ 1250 -91 836 529 \r\nQ 422 1150 422 2328 \r\nQ 422 3509 836 4129 \r\nQ 1250 4750 2034 4750 \r\nz\r\n\" id=\"DejaVuSans-30\" transform=\"scale(0.015625)\"/>\r\n       </defs>\r\n       <use xlink:href=\"#DejaVuSans-30\"/>\r\n      </g>\r\n     </g>\r\n    </g>\r\n    <g id=\"xtick_2\">\r\n     <g id=\"line2d_2\">\r\n      <g>\r\n       <use style=\"stroke:#000000;stroke-width:0.8;\" x=\"69.636429\" xlink:href=\"#ma389aca092\" y=\"224.64\"/>\r\n      </g>\r\n     </g>\r\n     <g id=\"text_2\">\r\n      <!-- 5 -->\r\n      <g transform=\"translate(66.455179 239.238437)scale(0.1 -0.1)\">\r\n       <defs>\r\n        <path d=\"M 691 4666 \r\nL 3169 4666 \r\nL 3169 4134 \r\nL 1269 4134 \r\nL 1269 2991 \r\nQ 1406 3038 1543 3061 \r\nQ 1681 3084 1819 3084 \r\nQ 2600 3084 3056 2656 \r\nQ 3513 2228 3513 1497 \r\nQ 3513 744 3044 326 \r\nQ 2575 -91 1722 -91 \r\nQ 1428 -91 1123 -41 \r\nQ 819 9 494 109 \r\nL 494 744 \r\nQ 775 591 1075 516 \r\nQ 1375 441 1709 441 \r\nQ 2250 441 2565 725 \r\nQ 2881 1009 2881 1497 \r\nQ 2881 1984 2565 2268 \r\nQ 2250 2553 1709 2553 \r\nQ 1456 2553 1204 2497 \r\nQ 953 2441 691 2322 \r\nL 691 4666 \r\nz\r\n\" id=\"DejaVuSans-35\" transform=\"scale(0.015625)\"/>\r\n       </defs>\r\n       <use xlink:href=\"#DejaVuSans-35\"/>\r\n      </g>\r\n     </g>\r\n    </g>\r\n    <g id=\"xtick_3\">\r\n     <g id=\"line2d_3\">\r\n      <g>\r\n       <use style=\"stroke:#000000;stroke-width:0.8;\" x=\"108.465\" xlink:href=\"#ma389aca092\" y=\"224.64\"/>\r\n      </g>\r\n     </g>\r\n     <g id=\"text_3\">\r\n      <!-- 10 -->\r\n      <g transform=\"translate(102.1025 239.238437)scale(0.1 -0.1)\">\r\n       <defs>\r\n        <path d=\"M 794 531 \r\nL 1825 531 \r\nL 1825 4091 \r\nL 703 3866 \r\nL 703 4441 \r\nL 1819 4666 \r\nL 2450 4666 \r\nL 2450 531 \r\nL 3481 531 \r\nL 3481 0 \r\nL 794 0 \r\nL 794 531 \r\nz\r\n\" id=\"DejaVuSans-31\" transform=\"scale(0.015625)\"/>\r\n       </defs>\r\n       <use xlink:href=\"#DejaVuSans-31\"/>\r\n       <use x=\"63.623047\" xlink:href=\"#DejaVuSans-30\"/>\r\n      </g>\r\n     </g>\r\n    </g>\r\n    <g id=\"xtick_4\">\r\n     <g id=\"line2d_4\">\r\n      <g>\r\n       <use style=\"stroke:#000000;stroke-width:0.8;\" x=\"147.293571\" xlink:href=\"#ma389aca092\" y=\"224.64\"/>\r\n      </g>\r\n     </g>\r\n     <g id=\"text_4\">\r\n      <!-- 15 -->\r\n      <g transform=\"translate(140.931071 239.238437)scale(0.1 -0.1)\">\r\n       <use xlink:href=\"#DejaVuSans-31\"/>\r\n       <use x=\"63.623047\" xlink:href=\"#DejaVuSans-35\"/>\r\n      </g>\r\n     </g>\r\n    </g>\r\n    <g id=\"xtick_5\">\r\n     <g id=\"line2d_5\">\r\n      <g>\r\n       <use style=\"stroke:#000000;stroke-width:0.8;\" x=\"186.122143\" xlink:href=\"#ma389aca092\" y=\"224.64\"/>\r\n      </g>\r\n     </g>\r\n     <g id=\"text_5\">\r\n      <!-- 20 -->\r\n      <g transform=\"translate(179.759643 239.238437)scale(0.1 -0.1)\">\r\n       <defs>\r\n        <path d=\"M 1228 531 \r\nL 3431 531 \r\nL 3431 0 \r\nL 469 0 \r\nL 469 531 \r\nQ 828 903 1448 1529 \r\nQ 2069 2156 2228 2338 \r\nQ 2531 2678 2651 2914 \r\nQ 2772 3150 2772 3378 \r\nQ 2772 3750 2511 3984 \r\nQ 2250 4219 1831 4219 \r\nQ 1534 4219 1204 4116 \r\nQ 875 4013 500 3803 \r\nL 500 4441 \r\nQ 881 4594 1212 4672 \r\nQ 1544 4750 1819 4750 \r\nQ 2544 4750 2975 4387 \r\nQ 3406 4025 3406 3419 \r\nQ 3406 3131 3298 2873 \r\nQ 3191 2616 2906 2266 \r\nQ 2828 2175 2409 1742 \r\nQ 1991 1309 1228 531 \r\nz\r\n\" id=\"DejaVuSans-32\" transform=\"scale(0.015625)\"/>\r\n       </defs>\r\n       <use xlink:href=\"#DejaVuSans-32\"/>\r\n       <use x=\"63.623047\" xlink:href=\"#DejaVuSans-30\"/>\r\n      </g>\r\n     </g>\r\n    </g>\r\n    <g id=\"xtick_6\">\r\n     <g id=\"line2d_6\">\r\n      <g>\r\n       <use style=\"stroke:#000000;stroke-width:0.8;\" x=\"224.950714\" xlink:href=\"#ma389aca092\" y=\"224.64\"/>\r\n      </g>\r\n     </g>\r\n     <g id=\"text_6\">\r\n      <!-- 25 -->\r\n      <g transform=\"translate(218.588214 239.238437)scale(0.1 -0.1)\">\r\n       <use xlink:href=\"#DejaVuSans-32\"/>\r\n       <use x=\"63.623047\" xlink:href=\"#DejaVuSans-35\"/>\r\n      </g>\r\n     </g>\r\n    </g>\r\n   </g>\r\n   <g id=\"matplotlib.axis_2\">\r\n    <g id=\"ytick_1\">\r\n     <g id=\"line2d_7\">\r\n      <defs>\r\n       <path d=\"M 0 0 \r\nL -3.5 0 \r\n\" id=\"m7380ea0e58\" style=\"stroke:#000000;stroke-width:0.8;\"/>\r\n      </defs>\r\n      <g>\r\n       <use style=\"stroke:#000000;stroke-width:0.8;\" x=\"26.925\" xlink:href=\"#m7380ea0e58\" y=\"11.082857\"/>\r\n      </g>\r\n     </g>\r\n     <g id=\"text_7\">\r\n      <!-- 0 -->\r\n      <g transform=\"translate(13.5625 14.882076)scale(0.1 -0.1)\">\r\n       <use xlink:href=\"#DejaVuSans-30\"/>\r\n      </g>\r\n     </g>\r\n    </g>\r\n    <g id=\"ytick_2\">\r\n     <g id=\"line2d_8\">\r\n      <g>\r\n       <use style=\"stroke:#000000;stroke-width:0.8;\" x=\"26.925\" xlink:href=\"#m7380ea0e58\" y=\"49.911429\"/>\r\n      </g>\r\n     </g>\r\n     <g id=\"text_8\">\r\n      <!-- 5 -->\r\n      <g transform=\"translate(13.5625 53.710647)scale(0.1 -0.1)\">\r\n       <use xlink:href=\"#DejaVuSans-35\"/>\r\n      </g>\r\n     </g>\r\n    </g>\r\n    <g id=\"ytick_3\">\r\n     <g id=\"line2d_9\">\r\n      <g>\r\n       <use style=\"stroke:#000000;stroke-width:0.8;\" x=\"26.925\" xlink:href=\"#m7380ea0e58\" y=\"88.74\"/>\r\n      </g>\r\n     </g>\r\n     <g id=\"text_9\">\r\n      <!-- 10 -->\r\n      <g transform=\"translate(7.2 92.539219)scale(0.1 -0.1)\">\r\n       <use xlink:href=\"#DejaVuSans-31\"/>\r\n       <use x=\"63.623047\" xlink:href=\"#DejaVuSans-30\"/>\r\n      </g>\r\n     </g>\r\n    </g>\r\n    <g id=\"ytick_4\">\r\n     <g id=\"line2d_10\">\r\n      <g>\r\n       <use style=\"stroke:#000000;stroke-width:0.8;\" x=\"26.925\" xlink:href=\"#m7380ea0e58\" y=\"127.568571\"/>\r\n      </g>\r\n     </g>\r\n     <g id=\"text_10\">\r\n      <!-- 15 -->\r\n      <g transform=\"translate(7.2 131.36779)scale(0.1 -0.1)\">\r\n       <use xlink:href=\"#DejaVuSans-31\"/>\r\n       <use x=\"63.623047\" xlink:href=\"#DejaVuSans-35\"/>\r\n      </g>\r\n     </g>\r\n    </g>\r\n    <g id=\"ytick_5\">\r\n     <g id=\"line2d_11\">\r\n      <g>\r\n       <use style=\"stroke:#000000;stroke-width:0.8;\" x=\"26.925\" xlink:href=\"#m7380ea0e58\" y=\"166.397143\"/>\r\n      </g>\r\n     </g>\r\n     <g id=\"text_11\">\r\n      <!-- 20 -->\r\n      <g transform=\"translate(7.2 170.196362)scale(0.1 -0.1)\">\r\n       <use xlink:href=\"#DejaVuSans-32\"/>\r\n       <use x=\"63.623047\" xlink:href=\"#DejaVuSans-30\"/>\r\n      </g>\r\n     </g>\r\n    </g>\r\n    <g id=\"ytick_6\">\r\n     <g id=\"line2d_12\">\r\n      <g>\r\n       <use style=\"stroke:#000000;stroke-width:0.8;\" x=\"26.925\" xlink:href=\"#m7380ea0e58\" y=\"205.225714\"/>\r\n      </g>\r\n     </g>\r\n     <g id=\"text_12\">\r\n      <!-- 25 -->\r\n      <g transform=\"translate(7.2 209.024933)scale(0.1 -0.1)\">\r\n       <use xlink:href=\"#DejaVuSans-32\"/>\r\n       <use x=\"63.623047\" xlink:href=\"#DejaVuSans-35\"/>\r\n      </g>\r\n     </g>\r\n    </g>\r\n   </g>\r\n   <g id=\"patch_3\">\r\n    <path d=\"M 26.925 224.64 \r\nL 26.925 7.2 \r\n\" style=\"fill:none;stroke:#000000;stroke-linecap:square;stroke-linejoin:miter;stroke-width:0.8;\"/>\r\n   </g>\r\n   <g id=\"patch_4\">\r\n    <path d=\"M 244.365 224.64 \r\nL 244.365 7.2 \r\n\" style=\"fill:none;stroke:#000000;stroke-linecap:square;stroke-linejoin:miter;stroke-width:0.8;\"/>\r\n   </g>\r\n   <g id=\"patch_5\">\r\n    <path d=\"M 26.925 224.64 \r\nL 244.365 224.64 \r\n\" style=\"fill:none;stroke:#000000;stroke-linecap:square;stroke-linejoin:miter;stroke-width:0.8;\"/>\r\n   </g>\r\n   <g id=\"patch_6\">\r\n    <path d=\"M 26.925 7.2 \r\nL 244.365 7.2 \r\n\" style=\"fill:none;stroke:#000000;stroke-linecap:square;stroke-linejoin:miter;stroke-width:0.8;\"/>\r\n   </g>\r\n  </g>\r\n </g>\r\n <defs>\r\n  <clipPath id=\"p77d7a6dddb\">\r\n   <rect height=\"217.44\" width=\"217.44\" x=\"26.925\" y=\"7.2\"/>\r\n  </clipPath>\r\n </defs>\r\n</svg>\r\n",
      "image/png": "[encoded data removed]"
     },
     "metadata": {
      "needs_background": "light"
     }
    },
    {
     "output_type": "stream",
     "name": "stdout",
     "text": [
      "Prediction:  [4]\nLabel:  4\n"
     ]
    },
    {
     "output_type": "display_data",
     "data": {
      "text/plain": "<Figure size 432x288 with 1 Axes>",
      "image/svg+xml": "<?xml version=\"1.0\" encoding=\"utf-8\" standalone=\"no\"?>\r\n<!DOCTYPE svg PUBLIC \"-//W3C//DTD SVG 1.1//EN\"\r\n  \"http://www.w3.org/Graphics/SVG/1.1/DTD/svg11.dtd\">\r\n<svg height=\"248.518125pt\" version=\"1.1\" viewBox=\"0 0 251.565 248.518125\" width=\"251.565pt\" xmlns=\"http://www.w3.org/2000/svg\" xmlns:xlink=\"http://www.w3.org/1999/xlink\">\r\n <metadata>\r\n  <rdf:RDF xmlns:cc=\"http://creativecommons.org/ns#\" xmlns:dc=\"http://purl.org/dc/elements/1.1/\" xmlns:rdf=\"http://www.w3.org/1999/02/22-rdf-syntax-ns#\">\r\n   <cc:Work>\r\n    <dc:type rdf:resource=\"http://purl.org/dc/dcmitype/StillImage\"/>\r\n    <dc:date>2021-07-20T11:23:24.943642</dc:date>\r\n    <dc:format>image/svg+xml</dc:format>\r\n    <dc:creator>\r\n     <cc:Agent>\r\n      <dc:title>Matplotlib v3.4.2, https://matplotlib.org/</dc:title>\r\n     </cc:Agent>\r\n    </dc:creator>\r\n   </cc:Work>\r\n  </rdf:RDF>\r\n </metadata>\r\n <defs>\r\n  <style type=\"text/css\">*{stroke-linecap:butt;stroke-linejoin:round;}</style>\r\n </defs>\r\n <g id=\"figure_1\">\r\n  <g id=\"patch_1\">\r\n   <path d=\"M 0 248.518125 \r\nL 251.565 248.518125 \r\nL 251.565 0 \r\nL 0 0 \r\nz\r\n\" style=\"fill:none;\"/>\r\n  </g>\r\n  <g id=\"axes_1\">\r\n   <g id=\"patch_2\">\r\n    <path d=\"M 26.925 224.64 \r\nL 244.365 224.64 \r\nL 244.365 7.2 \r\nL 26.925 7.2 \r\nz\r\n\" style=\"fill:#ffffff;\"/>\r\n   </g>\r\n   <g clip-path=\"url(#pe5f77bf20f)\">\r\n    <image height=\"218\" id=\"image22700c3f61\" transform=\"scale(1 -1)translate(0 -218)\" width=\"218\" x=\"26.925\" xlink:href=\"data:image/png;base64,\r\niVBORw0KGgoAAAANSUhEUgAAANoAAADaCAYAAADAHVzbAAAFe0lEQVR4nO3dz4tNfxzH8ZlvZGbkx4KV1TRZUEqRX2VHk4WFH5EVdsrKxgL/AWVnI0srNkZJUzZiZWYziYSdoiyHSRb4C877uD++L3PvfTy2r86ds3n2qTmde8fHxsZ+jwH/q//+9Q3AKBAaBAgNAoQGAUKDAKFBgNAgQGgQIDQIEBoECA0ChAYBQoMAoUGA0CBAaBAgNAgQGgQIDQKEBgFCgwChQcCaf30DdG737t3lfuTIkXK/detWH++Gv+FEgwChQYDQIEBoECA0CBAaBAgNAsbH/GzTqrNz585yX1xcLPeFhYVyP3z4cMf3RG+caBAgNAgQGgQIDQKEBgFCgwChQYD30VahycnJcp+YmCj3TZs2lfvU1FTjtrKyUl5Ld5xoECA0CBAaBAgNAoQGAUKDAKFBgOdoQ2jXrl3lfvTo0cbt0aNH/b4dxpxoECE0CBAaBAgNAoQGAUKDAKFBgOdoI+jdu3f/+hZGjhMNAoQGAUKDAKFBgNAgQGgQ4GebVqG1a9eW+927d8v9/Pnz5f706dPG7dSpU+W1vo6uO040CBAaBAgNAoQGAUKDAKFBgNAgwHO0AXTs2LFyf/LkSdeffebMmXJ/8OBB1589ypxoECA0CBAaBAgNAoQGAUKDAKFBwMh+3dy2bdvKfWJiotw/fvzYz9vpyPz8fLnfuXOn3C9dutS4LS8vd3VP1JxoECA0CBAaBAgNAoQGAUKDAKFBwNA+R9u8eXO5Ly0tlfv69evL/dWrV53e0l+7efNmuc/NzZX7t2/fyv337+ZXEK9fv97TZ7948aLcR5UTDQKEBgFCgwChQYDQIEBoEDC0XzfX9i/w48ePh+6k/x4+fFjubT+9ND4+3vXfbnsF5/Lly11/9jBzokGA0CBAaBAgNAgQGgQIDQKEBgFD+xztw4cP5T4zM9PT5z9+/Ljcv3//3ridPn26vHbNmtX79tKXL1/Kve1r/H79+tXP2xkYTjQIEBoECA0ChAYBQoMAoUGA0CBgaJ+jHTp0qNxfvnxZ7m1fq3bw4MFyf/36dblXrly5Uu4nTpwo97aflDp79mzjNjk5WV7bpu2r8q5evdrT5w8qJxoECA0ChAYBQoMAoUGA0CBAaBCwel986lHbzzK9ffu23Hfs2FHus7Oz5d7Lc7Tbt2/3tLdZt25d43bu3LmePnv79u09XT+snGgQIDQIEBoECA0ChAYBQoMAoUHA0D5Ha3ufrO29qLbvbdy/f3/H97RaXLhwoXGbnp4urz1w4EC579u3r9w3bNjQuC0vL5fXDjInGgQIDQKEBgFCgwChQYDQIGBo/73f5tmzZ+X+9evX0J3k/fz5s3Gbm5srr2379/779+/L/cePH+U+rJxoECA0CBAaBAgNAoQGAUKDAKFBwND+bFOvPn/+XO43btwo93v37vXzdmK2bt1a7m/evCn3LVu2lPvevXsbt8XFxfLaQeZEgwChQYDQIEBoECA0CBAaBAgNAkb2fbQ2165dK/f79++H7iSr7T2858+fl/vJkye73j1HA3oiNAgQGgQIDQKEBgFCgwChQYD30ejInj17yn1hYaHc5+fnG7fZ2dmu7mkQONEgQGgQIDQIEBoECA0ChAYBQoMA76PRkbbvu2yzcePGPt3JYHGiQYDQIEBoECA0CBAaBAgNAvx7n46srKyU+6dPn8r94sWL/bydgeFEgwChQYDQIEBoECA0CBAaBAgNAnzdHAQ40SBAaBAgNAgQGgQIDQKEBgFCgwChQYDQIEBoECA0CBAaBAgNAoQGAUKDAKFBgNAgQGgQIDQIEBoECA0ChAYBQoMAoUGA0CBAaBAgNAgQGgQIDQKEBgFCgwChQYDQIEBoECA0CBAaBAgNAoQGAX8AHOXKPHPraaEAAAAASUVORK5CYII=\" y=\"-6.64\"/>\r\n   </g>\r\n   <g id=\"matplotlib.axis_1\">\r\n    <g id=\"xtick_1\">\r\n     <g id=\"line2d_1\">\r\n      <defs>\r\n       <path d=\"M 0 0 \r\nL 0 3.5 \r\n\" id=\"mb51b52b518\" style=\"stroke:#000000;stroke-width:0.8;\"/>\r\n      </defs>\r\n      <g>\r\n       <use style=\"stroke:#000000;stroke-width:0.8;\" x=\"30.807857\" xlink:href=\"#mb51b52b518\" y=\"224.64\"/>\r\n      </g>\r\n     </g>\r\n     <g id=\"text_1\">\r\n      <!-- 0 -->\r\n      <g transform=\"translate(27.626607 239.238437)scale(0.1 -0.1)\">\r\n       <defs>\r\n        <path d=\"M 2034 4250 \r\nQ 1547 4250 1301 3770 \r\nQ 1056 3291 1056 2328 \r\nQ 1056 1369 1301 889 \r\nQ 1547 409 2034 409 \r\nQ 2525 409 2770 889 \r\nQ 3016 1369 3016 2328 \r\nQ 3016 3291 2770 3770 \r\nQ 2525 4250 2034 4250 \r\nz\r\nM 2034 4750 \r\nQ 2819 4750 3233 4129 \r\nQ 3647 3509 3647 2328 \r\nQ 3647 1150 3233 529 \r\nQ 2819 -91 2034 -91 \r\nQ 1250 -91 836 529 \r\nQ 422 1150 422 2328 \r\nQ 422 3509 836 4129 \r\nQ 1250 4750 2034 4750 \r\nz\r\n\" id=\"DejaVuSans-30\" transform=\"scale(0.015625)\"/>\r\n       </defs>\r\n       <use xlink:href=\"#DejaVuSans-30\"/>\r\n      </g>\r\n     </g>\r\n    </g>\r\n    <g id=\"xtick_2\">\r\n     <g id=\"line2d_2\">\r\n      <g>\r\n       <use style=\"stroke:#000000;stroke-width:0.8;\" x=\"69.636429\" xlink:href=\"#mb51b52b518\" y=\"224.64\"/>\r\n      </g>\r\n     </g>\r\n     <g id=\"text_2\">\r\n      <!-- 5 -->\r\n      <g transform=\"translate(66.455179 239.238437)scale(0.1 -0.1)\">\r\n       <defs>\r\n        <path d=\"M 691 4666 \r\nL 3169 4666 \r\nL 3169 4134 \r\nL 1269 4134 \r\nL 1269 2991 \r\nQ 1406 3038 1543 3061 \r\nQ 1681 3084 1819 3084 \r\nQ 2600 3084 3056 2656 \r\nQ 3513 2228 3513 1497 \r\nQ 3513 744 3044 326 \r\nQ 2575 -91 1722 -91 \r\nQ 1428 -91 1123 -41 \r\nQ 819 9 494 109 \r\nL 494 744 \r\nQ 775 591 1075 516 \r\nQ 1375 441 1709 441 \r\nQ 2250 441 2565 725 \r\nQ 2881 1009 2881 1497 \r\nQ 2881 1984 2565 2268 \r\nQ 2250 2553 1709 2553 \r\nQ 1456 2553 1204 2497 \r\nQ 953 2441 691 2322 \r\nL 691 4666 \r\nz\r\n\" id=\"DejaVuSans-35\" transform=\"scale(0.015625)\"/>\r\n       </defs>\r\n       <use xlink:href=\"#DejaVuSans-35\"/>\r\n      </g>\r\n     </g>\r\n    </g>\r\n    <g id=\"xtick_3\">\r\n     <g id=\"line2d_3\">\r\n      <g>\r\n       <use style=\"stroke:#000000;stroke-width:0.8;\" x=\"108.465\" xlink:href=\"#mb51b52b518\" y=\"224.64\"/>\r\n      </g>\r\n     </g>\r\n     <g id=\"text_3\">\r\n      <!-- 10 -->\r\n      <g transform=\"translate(102.1025 239.238437)scale(0.1 -0.1)\">\r\n       <defs>\r\n        <path d=\"M 794 531 \r\nL 1825 531 \r\nL 1825 4091 \r\nL 703 3866 \r\nL 703 4441 \r\nL 1819 4666 \r\nL 2450 4666 \r\nL 2450 531 \r\nL 3481 531 \r\nL 3481 0 \r\nL 794 0 \r\nL 794 531 \r\nz\r\n\" id=\"DejaVuSans-31\" transform=\"scale(0.015625)\"/>\r\n       </defs>\r\n       <use xlink:href=\"#DejaVuSans-31\"/>\r\n       <use x=\"63.623047\" xlink:href=\"#DejaVuSans-30\"/>\r\n      </g>\r\n     </g>\r\n    </g>\r\n    <g id=\"xtick_4\">\r\n     <g id=\"line2d_4\">\r\n      <g>\r\n       <use style=\"stroke:#000000;stroke-width:0.8;\" x=\"147.293571\" xlink:href=\"#mb51b52b518\" y=\"224.64\"/>\r\n      </g>\r\n     </g>\r\n     <g id=\"text_4\">\r\n      <!-- 15 -->\r\n      <g transform=\"translate(140.931071 239.238437)scale(0.1 -0.1)\">\r\n       <use xlink:href=\"#DejaVuSans-31\"/>\r\n       <use x=\"63.623047\" xlink:href=\"#DejaVuSans-35\"/>\r\n      </g>\r\n     </g>\r\n    </g>\r\n    <g id=\"xtick_5\">\r\n     <g id=\"line2d_5\">\r\n      <g>\r\n       <use style=\"stroke:#000000;stroke-width:0.8;\" x=\"186.122143\" xlink:href=\"#mb51b52b518\" y=\"224.64\"/>\r\n      </g>\r\n     </g>\r\n     <g id=\"text_5\">\r\n      <!-- 20 -->\r\n      <g transform=\"translate(179.759643 239.238437)scale(0.1 -0.1)\">\r\n       <defs>\r\n        <path d=\"M 1228 531 \r\nL 3431 531 \r\nL 3431 0 \r\nL 469 0 \r\nL 469 531 \r\nQ 828 903 1448 1529 \r\nQ 2069 2156 2228 2338 \r\nQ 2531 2678 2651 2914 \r\nQ 2772 3150 2772 3378 \r\nQ 2772 3750 2511 3984 \r\nQ 2250 4219 1831 4219 \r\nQ 1534 4219 1204 4116 \r\nQ 875 4013 500 3803 \r\nL 500 4441 \r\nQ 881 4594 1212 4672 \r\nQ 1544 4750 1819 4750 \r\nQ 2544 4750 2975 4387 \r\nQ 3406 4025 3406 3419 \r\nQ 3406 3131 3298 2873 \r\nQ 3191 2616 2906 2266 \r\nQ 2828 2175 2409 1742 \r\nQ 1991 1309 1228 531 \r\nz\r\n\" id=\"DejaVuSans-32\" transform=\"scale(0.015625)\"/>\r\n       </defs>\r\n       <use xlink:href=\"#DejaVuSans-32\"/>\r\n       <use x=\"63.623047\" xlink:href=\"#DejaVuSans-30\"/>\r\n      </g>\r\n     </g>\r\n    </g>\r\n    <g id=\"xtick_6\">\r\n     <g id=\"line2d_6\">\r\n      <g>\r\n       <use style=\"stroke:#000000;stroke-width:0.8;\" x=\"224.950714\" xlink:href=\"#mb51b52b518\" y=\"224.64\"/>\r\n      </g>\r\n     </g>\r\n     <g id=\"text_6\">\r\n      <!-- 25 -->\r\n      <g transform=\"translate(218.588214 239.238437)scale(0.1 -0.1)\">\r\n       <use xlink:href=\"#DejaVuSans-32\"/>\r\n       <use x=\"63.623047\" xlink:href=\"#DejaVuSans-35\"/>\r\n      </g>\r\n     </g>\r\n    </g>\r\n   </g>\r\n   <g id=\"matplotlib.axis_2\">\r\n    <g id=\"ytick_1\">\r\n     <g id=\"line2d_7\">\r\n      <defs>\r\n       <path d=\"M 0 0 \r\nL -3.5 0 \r\n\" id=\"m50ec0c2e84\" style=\"stroke:#000000;stroke-width:0.8;\"/>\r\n      </defs>\r\n      <g>\r\n       <use style=\"stroke:#000000;stroke-width:0.8;\" x=\"26.925\" xlink:href=\"#m50ec0c2e84\" y=\"11.082857\"/>\r\n      </g>\r\n     </g>\r\n     <g id=\"text_7\">\r\n      <!-- 0 -->\r\n      <g transform=\"translate(13.5625 14.882076)scale(0.1 -0.1)\">\r\n       <use xlink:href=\"#DejaVuSans-30\"/>\r\n      </g>\r\n     </g>\r\n    </g>\r\n    <g id=\"ytick_2\">\r\n     <g id=\"line2d_8\">\r\n      <g>\r\n       <use style=\"stroke:#000000;stroke-width:0.8;\" x=\"26.925\" xlink:href=\"#m50ec0c2e84\" y=\"49.911429\"/>\r\n      </g>\r\n     </g>\r\n     <g id=\"text_8\">\r\n      <!-- 5 -->\r\n      <g transform=\"translate(13.5625 53.710647)scale(0.1 -0.1)\">\r\n       <use xlink:href=\"#DejaVuSans-35\"/>\r\n      </g>\r\n     </g>\r\n    </g>\r\n    <g id=\"ytick_3\">\r\n     <g id=\"line2d_9\">\r\n      <g>\r\n       <use style=\"stroke:#000000;stroke-width:0.8;\" x=\"26.925\" xlink:href=\"#m50ec0c2e84\" y=\"88.74\"/>\r\n      </g>\r\n     </g>\r\n     <g id=\"text_9\">\r\n      <!-- 10 -->\r\n      <g transform=\"translate(7.2 92.539219)scale(0.1 -0.1)\">\r\n       <use xlink:href=\"#DejaVuSans-31\"/>\r\n       <use x=\"63.623047\" xlink:href=\"#DejaVuSans-30\"/>\r\n      </g>\r\n     </g>\r\n    </g>\r\n    <g id=\"ytick_4\">\r\n     <g id=\"line2d_10\">\r\n      <g>\r\n       <use style=\"stroke:#000000;stroke-width:0.8;\" x=\"26.925\" xlink:href=\"#m50ec0c2e84\" y=\"127.568571\"/>\r\n      </g>\r\n     </g>\r\n     <g id=\"text_10\">\r\n      <!-- 15 -->\r\n      <g transform=\"translate(7.2 131.36779)scale(0.1 -0.1)\">\r\n       <use xlink:href=\"#DejaVuSans-31\"/>\r\n       <use x=\"63.623047\" xlink:href=\"#DejaVuSans-35\"/>\r\n      </g>\r\n     </g>\r\n    </g>\r\n    <g id=\"ytick_5\">\r\n     <g id=\"line2d_11\">\r\n      <g>\r\n       <use style=\"stroke:#000000;stroke-width:0.8;\" x=\"26.925\" xlink:href=\"#m50ec0c2e84\" y=\"166.397143\"/>\r\n      </g>\r\n     </g>\r\n     <g id=\"text_11\">\r\n      <!-- 20 -->\r\n      <g transform=\"translate(7.2 170.196362)scale(0.1 -0.1)\">\r\n       <use xlink:href=\"#DejaVuSans-32\"/>\r\n       <use x=\"63.623047\" xlink:href=\"#DejaVuSans-30\"/>\r\n      </g>\r\n     </g>\r\n    </g>\r\n    <g id=\"ytick_6\">\r\n     <g id=\"line2d_12\">\r\n      <g>\r\n       <use style=\"stroke:#000000;stroke-width:0.8;\" x=\"26.925\" xlink:href=\"#m50ec0c2e84\" y=\"205.225714\"/>\r\n      </g>\r\n     </g>\r\n     <g id=\"text_12\">\r\n      <!-- 25 -->\r\n      <g transform=\"translate(7.2 209.024933)scale(0.1 -0.1)\">\r\n       <use xlink:href=\"#DejaVuSans-32\"/>\r\n       <use x=\"63.623047\" xlink:href=\"#DejaVuSans-35\"/>\r\n      </g>\r\n     </g>\r\n    </g>\r\n   </g>\r\n   <g id=\"patch_3\">\r\n    <path d=\"M 26.925 224.64 \r\nL 26.925 7.2 \r\n\" style=\"fill:none;stroke:#000000;stroke-linecap:square;stroke-linejoin:miter;stroke-width:0.8;\"/>\r\n   </g>\r\n   <g id=\"patch_4\">\r\n    <path d=\"M 244.365 224.64 \r\nL 244.365 7.2 \r\n\" style=\"fill:none;stroke:#000000;stroke-linecap:square;stroke-linejoin:miter;stroke-width:0.8;\"/>\r\n   </g>\r\n   <g id=\"patch_5\">\r\n    <path d=\"M 26.925 224.64 \r\nL 244.365 224.64 \r\n\" style=\"fill:none;stroke:#000000;stroke-linecap:square;stroke-linejoin:miter;stroke-width:0.8;\"/>\r\n   </g>\r\n   <g id=\"patch_6\">\r\n    <path d=\"M 26.925 7.2 \r\nL 244.365 7.2 \r\n\" style=\"fill:none;stroke:#000000;stroke-linecap:square;stroke-linejoin:miter;stroke-width:0.8;\"/>\r\n   </g>\r\n  </g>\r\n </g>\r\n <defs>\r\n  <clipPath id=\"pe5f77bf20f\">\r\n   <rect height=\"217.44\" width=\"217.44\" x=\"26.925\" y=\"7.2\"/>\r\n  </clipPath>\r\n </defs>\r\n</svg>\r\n",
      "image/png": "[encoded data removed]"
     },
     "metadata": {
      "needs_background": "light"
     }
    },
    {
     "output_type": "stream",
     "name": "stdout",
     "text": [
      "Prediction:  [3]\nLabel:  3\n"
     ]
    },
    {
     "output_type": "display_data",
     "data": {
      "text/plain": "<Figure size 432x288 with 1 Axes>",
      "image/svg+xml": "<?xml version=\"1.0\" encoding=\"utf-8\" standalone=\"no\"?>\r\n<!DOCTYPE svg PUBLIC \"-//W3C//DTD SVG 1.1//EN\"\r\n  \"http://www.w3.org/Graphics/SVG/1.1/DTD/svg11.dtd\">\r\n<svg height=\"248.518125pt\" version=\"1.1\" viewBox=\"0 0 251.565 248.518125\" width=\"251.565pt\" xmlns=\"http://www.w3.org/2000/svg\" xmlns:xlink=\"http://www.w3.org/1999/xlink\">\r\n <metadata>\r\n  <rdf:RDF xmlns:cc=\"http://creativecommons.org/ns#\" xmlns:dc=\"http://purl.org/dc/elements/1.1/\" xmlns:rdf=\"http://www.w3.org/1999/02/22-rdf-syntax-ns#\">\r\n   <cc:Work>\r\n    <dc:type rdf:resource=\"http://purl.org/dc/dcmitype/StillImage\"/>\r\n    <dc:date>2021-07-20T11:23:25.208645</dc:date>\r\n    <dc:format>image/svg+xml</dc:format>\r\n    <dc:creator>\r\n     <cc:Agent>\r\n      <dc:title>Matplotlib v3.4.2, https://matplotlib.org/</dc:title>\r\n     </cc:Agent>\r\n    </dc:creator>\r\n   </cc:Work>\r\n  </rdf:RDF>\r\n </metadata>\r\n <defs>\r\n  <style type=\"text/css\">*{stroke-linecap:butt;stroke-linejoin:round;}</style>\r\n </defs>\r\n <g id=\"figure_1\">\r\n  <g id=\"patch_1\">\r\n   <path d=\"M 0 248.518125 \r\nL 251.565 248.518125 \r\nL 251.565 0 \r\nL 0 0 \r\nz\r\n\" style=\"fill:none;\"/>\r\n  </g>\r\n  <g id=\"axes_1\">\r\n   <g id=\"patch_2\">\r\n    <path d=\"M 26.925 224.64 \r\nL 244.365 224.64 \r\nL 244.365 7.2 \r\nL 26.925 7.2 \r\nz\r\n\" style=\"fill:#ffffff;\"/>\r\n   </g>\r\n   <g clip-path=\"url(#p6b8659e5df)\">\r\n    <image height=\"218\" id=\"imagec3dde690d6\" transform=\"scale(1 -1)translate(0 -218)\" width=\"218\" x=\"26.925\" xlink:href=\"data:image/png;base64,\r\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\" y=\"-6.64\"/>\r\n   </g>\r\n   <g id=\"matplotlib.axis_1\">\r\n    <g id=\"xtick_1\">\r\n     <g id=\"line2d_1\">\r\n      <defs>\r\n       <path d=\"M 0 0 \r\nL 0 3.5 \r\n\" id=\"m51e26e1bad\" style=\"stroke:#000000;stroke-width:0.8;\"/>\r\n      </defs>\r\n      <g>\r\n       <use style=\"stroke:#000000;stroke-width:0.8;\" x=\"30.807857\" xlink:href=\"#m51e26e1bad\" y=\"224.64\"/>\r\n      </g>\r\n     </g>\r\n     <g id=\"text_1\">\r\n      <!-- 0 -->\r\n      <g transform=\"translate(27.626607 239.238437)scale(0.1 -0.1)\">\r\n       <defs>\r\n        <path d=\"M 2034 4250 \r\nQ 1547 4250 1301 3770 \r\nQ 1056 3291 1056 2328 \r\nQ 1056 1369 1301 889 \r\nQ 1547 409 2034 409 \r\nQ 2525 409 2770 889 \r\nQ 3016 1369 3016 2328 \r\nQ 3016 3291 2770 3770 \r\nQ 2525 4250 2034 4250 \r\nz\r\nM 2034 4750 \r\nQ 2819 4750 3233 4129 \r\nQ 3647 3509 3647 2328 \r\nQ 3647 1150 3233 529 \r\nQ 2819 -91 2034 -91 \r\nQ 1250 -91 836 529 \r\nQ 422 1150 422 2328 \r\nQ 422 3509 836 4129 \r\nQ 1250 4750 2034 4750 \r\nz\r\n\" id=\"DejaVuSans-30\" transform=\"scale(0.015625)\"/>\r\n       </defs>\r\n       <use xlink:href=\"#DejaVuSans-30\"/>\r\n      </g>\r\n     </g>\r\n    </g>\r\n    <g id=\"xtick_2\">\r\n     <g id=\"line2d_2\">\r\n      <g>\r\n       <use style=\"stroke:#000000;stroke-width:0.8;\" x=\"69.636429\" xlink:href=\"#m51e26e1bad\" y=\"224.64\"/>\r\n      </g>\r\n     </g>\r\n     <g id=\"text_2\">\r\n      <!-- 5 -->\r\n      <g transform=\"translate(66.455179 239.238437)scale(0.1 -0.1)\">\r\n       <defs>\r\n        <path d=\"M 691 4666 \r\nL 3169 4666 \r\nL 3169 4134 \r\nL 1269 4134 \r\nL 1269 2991 \r\nQ 1406 3038 1543 3061 \r\nQ 1681 3084 1819 3084 \r\nQ 2600 3084 3056 2656 \r\nQ 3513 2228 3513 1497 \r\nQ 3513 744 3044 326 \r\nQ 2575 -91 1722 -91 \r\nQ 1428 -91 1123 -41 \r\nQ 819 9 494 109 \r\nL 494 744 \r\nQ 775 591 1075 516 \r\nQ 1375 441 1709 441 \r\nQ 2250 441 2565 725 \r\nQ 2881 1009 2881 1497 \r\nQ 2881 1984 2565 2268 \r\nQ 2250 2553 1709 2553 \r\nQ 1456 2553 1204 2497 \r\nQ 953 2441 691 2322 \r\nL 691 4666 \r\nz\r\n\" id=\"DejaVuSans-35\" transform=\"scale(0.015625)\"/>\r\n       </defs>\r\n       <use xlink:href=\"#DejaVuSans-35\"/>\r\n      </g>\r\n     </g>\r\n    </g>\r\n    <g id=\"xtick_3\">\r\n     <g id=\"line2d_3\">\r\n      <g>\r\n       <use style=\"stroke:#000000;stroke-width:0.8;\" x=\"108.465\" xlink:href=\"#m51e26e1bad\" y=\"224.64\"/>\r\n      </g>\r\n     </g>\r\n     <g id=\"text_3\">\r\n      <!-- 10 -->\r\n      <g transform=\"translate(102.1025 239.238437)scale(0.1 -0.1)\">\r\n       <defs>\r\n        <path d=\"M 794 531 \r\nL 1825 531 \r\nL 1825 4091 \r\nL 703 3866 \r\nL 703 4441 \r\nL 1819 4666 \r\nL 2450 4666 \r\nL 2450 531 \r\nL 3481 531 \r\nL 3481 0 \r\nL 794 0 \r\nL 794 531 \r\nz\r\n\" id=\"DejaVuSans-31\" transform=\"scale(0.015625)\"/>\r\n       </defs>\r\n       <use xlink:href=\"#DejaVuSans-31\"/>\r\n       <use x=\"63.623047\" xlink:href=\"#DejaVuSans-30\"/>\r\n      </g>\r\n     </g>\r\n    </g>\r\n    <g id=\"xtick_4\">\r\n     <g id=\"line2d_4\">\r\n      <g>\r\n       <use style=\"stroke:#000000;stroke-width:0.8;\" x=\"147.293571\" xlink:href=\"#m51e26e1bad\" y=\"224.64\"/>\r\n      </g>\r\n     </g>\r\n     <g id=\"text_4\">\r\n      <!-- 15 -->\r\n      <g transform=\"translate(140.931071 239.238437)scale(0.1 -0.1)\">\r\n       <use xlink:href=\"#DejaVuSans-31\"/>\r\n       <use x=\"63.623047\" xlink:href=\"#DejaVuSans-35\"/>\r\n      </g>\r\n     </g>\r\n    </g>\r\n    <g id=\"xtick_5\">\r\n     <g id=\"line2d_5\">\r\n      <g>\r\n       <use style=\"stroke:#000000;stroke-width:0.8;\" x=\"186.122143\" xlink:href=\"#m51e26e1bad\" y=\"224.64\"/>\r\n      </g>\r\n     </g>\r\n     <g id=\"text_5\">\r\n      <!-- 20 -->\r\n      <g transform=\"translate(179.759643 239.238437)scale(0.1 -0.1)\">\r\n       <defs>\r\n        <path d=\"M 1228 531 \r\nL 3431 531 \r\nL 3431 0 \r\nL 469 0 \r\nL 469 531 \r\nQ 828 903 1448 1529 \r\nQ 2069 2156 2228 2338 \r\nQ 2531 2678 2651 2914 \r\nQ 2772 3150 2772 3378 \r\nQ 2772 3750 2511 3984 \r\nQ 2250 4219 1831 4219 \r\nQ 1534 4219 1204 4116 \r\nQ 875 4013 500 3803 \r\nL 500 4441 \r\nQ 881 4594 1212 4672 \r\nQ 1544 4750 1819 4750 \r\nQ 2544 4750 2975 4387 \r\nQ 3406 4025 3406 3419 \r\nQ 3406 3131 3298 2873 \r\nQ 3191 2616 2906 2266 \r\nQ 2828 2175 2409 1742 \r\nQ 1991 1309 1228 531 \r\nz\r\n\" id=\"DejaVuSans-32\" transform=\"scale(0.015625)\"/>\r\n       </defs>\r\n       <use xlink:href=\"#DejaVuSans-32\"/>\r\n       <use x=\"63.623047\" xlink:href=\"#DejaVuSans-30\"/>\r\n      </g>\r\n     </g>\r\n    </g>\r\n    <g id=\"xtick_6\">\r\n     <g id=\"line2d_6\">\r\n      <g>\r\n       <use style=\"stroke:#000000;stroke-width:0.8;\" x=\"224.950714\" xlink:href=\"#m51e26e1bad\" y=\"224.64\"/>\r\n      </g>\r\n     </g>\r\n     <g id=\"text_6\">\r\n      <!-- 25 -->\r\n      <g transform=\"translate(218.588214 239.238437)scale(0.1 -0.1)\">\r\n       <use xlink:href=\"#DejaVuSans-32\"/>\r\n       <use x=\"63.623047\" xlink:href=\"#DejaVuSans-35\"/>\r\n      </g>\r\n     </g>\r\n    </g>\r\n   </g>\r\n   <g id=\"matplotlib.axis_2\">\r\n    <g id=\"ytick_1\">\r\n     <g id=\"line2d_7\">\r\n      <defs>\r\n       <path d=\"M 0 0 \r\nL -3.5 0 \r\n\" id=\"m3271bef1f9\" style=\"stroke:#000000;stroke-width:0.8;\"/>\r\n      </defs>\r\n      <g>\r\n       <use style=\"stroke:#000000;stroke-width:0.8;\" x=\"26.925\" xlink:href=\"#m3271bef1f9\" y=\"11.082857\"/>\r\n      </g>\r\n     </g>\r\n     <g id=\"text_7\">\r\n      <!-- 0 -->\r\n      <g transform=\"translate(13.5625 14.882076)scale(0.1 -0.1)\">\r\n       <use xlink:href=\"#DejaVuSans-30\"/>\r\n      </g>\r\n     </g>\r\n    </g>\r\n    <g id=\"ytick_2\">\r\n     <g id=\"line2d_8\">\r\n      <g>\r\n       <use style=\"stroke:#000000;stroke-width:0.8;\" x=\"26.925\" xlink:href=\"#m3271bef1f9\" y=\"49.911429\"/>\r\n      </g>\r\n     </g>\r\n     <g id=\"text_8\">\r\n      <!-- 5 -->\r\n      <g transform=\"translate(13.5625 53.710647)scale(0.1 -0.1)\">\r\n       <use xlink:href=\"#DejaVuSans-35\"/>\r\n      </g>\r\n     </g>\r\n    </g>\r\n    <g id=\"ytick_3\">\r\n     <g id=\"line2d_9\">\r\n      <g>\r\n       <use style=\"stroke:#000000;stroke-width:0.8;\" x=\"26.925\" xlink:href=\"#m3271bef1f9\" y=\"88.74\"/>\r\n      </g>\r\n     </g>\r\n     <g id=\"text_9\">\r\n      <!-- 10 -->\r\n      <g transform=\"translate(7.2 92.539219)scale(0.1 -0.1)\">\r\n       <use xlink:href=\"#DejaVuSans-31\"/>\r\n       <use x=\"63.623047\" xlink:href=\"#DejaVuSans-30\"/>\r\n      </g>\r\n     </g>\r\n    </g>\r\n    <g id=\"ytick_4\">\r\n     <g id=\"line2d_10\">\r\n      <g>\r\n       <use style=\"stroke:#000000;stroke-width:0.8;\" x=\"26.925\" xlink:href=\"#m3271bef1f9\" y=\"127.568571\"/>\r\n      </g>\r\n     </g>\r\n     <g id=\"text_10\">\r\n      <!-- 15 -->\r\n      <g transform=\"translate(7.2 131.36779)scale(0.1 -0.1)\">\r\n       <use xlink:href=\"#DejaVuSans-31\"/>\r\n       <use x=\"63.623047\" xlink:href=\"#DejaVuSans-35\"/>\r\n      </g>\r\n     </g>\r\n    </g>\r\n    <g id=\"ytick_5\">\r\n     <g id=\"line2d_11\">\r\n      <g>\r\n       <use style=\"stroke:#000000;stroke-width:0.8;\" x=\"26.925\" xlink:href=\"#m3271bef1f9\" y=\"166.397143\"/>\r\n      </g>\r\n     </g>\r\n     <g id=\"text_11\">\r\n      <!-- 20 -->\r\n      <g transform=\"translate(7.2 170.196362)scale(0.1 -0.1)\">\r\n       <use xlink:href=\"#DejaVuSans-32\"/>\r\n       <use x=\"63.623047\" xlink:href=\"#DejaVuSans-30\"/>\r\n      </g>\r\n     </g>\r\n    </g>\r\n    <g id=\"ytick_6\">\r\n     <g id=\"line2d_12\">\r\n      <g>\r\n       <use style=\"stroke:#000000;stroke-width:0.8;\" x=\"26.925\" xlink:href=\"#m3271bef1f9\" y=\"205.225714\"/>\r\n      </g>\r\n     </g>\r\n     <g id=\"text_12\">\r\n      <!-- 25 -->\r\n      <g transform=\"translate(7.2 209.024933)scale(0.1 -0.1)\">\r\n       <use xlink:href=\"#DejaVuSans-32\"/>\r\n       <use x=\"63.623047\" xlink:href=\"#DejaVuSans-35\"/>\r\n      </g>\r\n     </g>\r\n    </g>\r\n   </g>\r\n   <g id=\"patch_3\">\r\n    <path d=\"M 26.925 224.64 \r\nL 26.925 7.2 \r\n\" style=\"fill:none;stroke:#000000;stroke-linecap:square;stroke-linejoin:miter;stroke-width:0.8;\"/>\r\n   </g>\r\n   <g id=\"patch_4\">\r\n    <path d=\"M 244.365 224.64 \r\nL 244.365 7.2 \r\n\" style=\"fill:none;stroke:#000000;stroke-linecap:square;stroke-linejoin:miter;stroke-width:0.8;\"/>\r\n   </g>\r\n   <g id=\"patch_5\">\r\n    <path d=\"M 26.925 224.64 \r\nL 244.365 224.64 \r\n\" style=\"fill:none;stroke:#000000;stroke-linecap:square;stroke-linejoin:miter;stroke-width:0.8;\"/>\r\n   </g>\r\n   <g id=\"patch_6\">\r\n    <path d=\"M 26.925 7.2 \r\nL 244.365 7.2 \r\n\" style=\"fill:none;stroke:#000000;stroke-linecap:square;stroke-linejoin:miter;stroke-width:0.8;\"/>\r\n   </g>\r\n  </g>\r\n </g>\r\n <defs>\r\n  <clipPath id=\"p6b8659e5df\">\r\n   <rect height=\"217.44\" width=\"217.44\" x=\"26.925\" y=\"7.2\"/>\r\n  </clipPath>\r\n </defs>\r\n</svg>\r\n",
      "image/png": "[encoded data removed]"
     },
     "metadata": {
      "needs_background": "light"
     }
    }
   ],
   "source": [
    "test_prediction(0, W1, b1, W2, b2)\n",
    "test_prediction(1, W1, b1, W2, b2)\n",
    "test_prediction(2, W1, b1, W2, b2)\n",
    "test_prediction(3, W1, b1, W2, b2)"
   ]
  },
  {
   "cell_type": "code",
   "execution_count": 15,
   "metadata": {},
   "outputs": [
    {
     "output_type": "stream",
     "name": "stdout",
     "text": [
      "[3 8 6 3 4 9 7 3 3 3 9 3 0 8 3 9 9 7 3 0 8 3 7 8 8 0 6 8 6 7 8 3 3 8 3 7 8\n 4 0 4 9 0 0 7 3 3 8 8 9 8 6 4 6 3 6 6 3 8 8 8 3 3 8 8 5 3 8 7 7 9 3 3 3 3\n 7 0 7 0 3 3 8 7 9 3 8 3 3 6 8 5 7 6 7 6 4 8 8 8 3 7 0 7 4 9 6 6 3 3 4 7 3\n 6 8 7 0 9 8 5 7 8 0 7 7 8 7 3 0 8 3 6 9 8 3 3 0 3 0 9 0 8 8 3 3 8 7 3 4 6\n 6 8 7 8 9 7 9 8 3 8 0 3 8 7 7 3 8 9 8 7 7 8 8 3 8 7 3 3 8 7 0 4 6 2 8 8 0\n 8 8 6 9 8 3 6 6 8 6 3 8 3 8 7 3 9 3 8 6 0 8 7 4 0 7 7 3 5 0 0 8 0 4 7 9 8\n 7 8 8 7 7 8 4 3 8 4 0 6 0 0 8 8 8 8 8 6 7 5 7 7 3 3 0 3 8 0 8 7 6 8 6 8 8\n 3 8 7 8 8 6 3 7 9 8 3 3 8 6 7 8 7 8 7 7 3 8 0 8 3 6 7 4 7 3 7 7 7 7 9 3 3\n 6 8 6 8 7 5 0 5 6 5 6 9 8 3 3 3 8 9 5 8 8 8 7 9 8 3 0 7 8 3 8 7 8 7 5 9 7\n 9 9 8 8 6 8 3 9 3 3 4 3 7 3 8 7 8 8 8 3 3 3 3 7 6 4 7 6 4 8 6 7 3 7 7 8 4\n 6 3 3 9 3 8 6 8 7 8 9 7 8 8 6 8 3 8 7 3 7 3 8 5 3 7 3 3 9 3 3 5 8 8 3 3 8\n 4 3 3 3 3 3 3 5 3 9 3 4 6 4 9 0 8 0 8 3 3 9 9 8 8 7 7 8 7 3 5 5 9 8 7 3 3\n 3 4 0 3 3 7 8 4 5 8 7 8 8 8 3 7 0 2 7 8 9 6 0 8 3 9 9 8 7 6 8 3 9 8 9 3 3\n 7 8 8 7 8 0 7 8 4 9 0 3 8 0 8 6 9 3 6 9 7 7 3 0 9 0 4 6 6 7 3 8 7 9 5 6 7\n 6 3 8 0 0 4 7 8 9 7 4 7 3 0 5 0 8 7 3 7 0 3 8 3 3 8 9 8 3 0 7 8 9 3 7 6 4\n 3 3 8 3 7 6 8 8 6 8 6 8 3 8 4 8 0 8 8 2 8 4 7 8 3 3 3 7 8 3 0 3 7 7 5 7 8\n 7 3 3 5 3 8 8 6 3 9 3 3 4 6 8 3 8 4 0 0 7 8 8 9 7 7 3 6 9 8 7 3 0 3 8 8 3\n 8 3 8 3 9 7 9 0 3 7 8 8 3 6 3 3 6 7 8 3 3 3 7 8 0 9 6 6 8 3 8 6 5 8 0 7 0\n 8 0 8 4 3 3 8 7 6 3 7 5 0 7 8 2 8 0 0 3 8 3 7 9 7 6 5 7 0 8 9 3 4 7 3 7 9\n 7 3 0 0 3 6 8 9 3 7 9 8 8 6 7 8 3 3 3 7 8 3 4 8 3 4 3 6 8 8 9 8 3 5 4 6 8\n 7 7 4 3 7 3 4 3 8 3 7 6 7 6 8 9 8 3 3 6 8 3 7 0 8 6 8 7 7 8 8 3 8 8 3 3 0\n 7 8 6 0 3 7 7 3 8 7 6 8 0 7 3 7 6 3 8 8 8 8 0 7 2 3 7 7 3 2 3 0 0 4 8 6 7\n 7 6 8 8 8 8 8 7 3 3 3 6 8 9 6 0 7 9 0 3 5 7 8 3 7 7 0 3 0 0 3 8 8 7 9 3 8\n 8 8 8 9 7 7 3 8 7 7 7 8 8 7 8 8 8 4 8 3 8 3 6 3 7 9 8 4 7 8 9 6 0 8 7 3 5\n 4 8 5 3 7 7 8 8 6 0 7 7 6 7 3 6 6 7 7 0 0 7 3 7 3 3 8 4 0 9 8 4 3 9 3 0 7\n 8 9 9 3 3 3 7 7 7 8 3 7 6 6 7 8 3 9 0 8 4 3 0 9 4 8 0 3 7 3 3 3 8 6 4 4 9\n 0 6 4 3 4 8 7 3 8 7 3 8 0 9 6 2 8 0 6 3 6 8 0 8 8 0 7 3 6 7 3 3 3 3 4 8 3\n 3] [8 7 4 3 1 0 8 3 3 1 2 8 5 9 8 7 0 7 1 4 4 6 5 8 8 1 7 9 1 7 6 5 2 6 3 7 9\n 2 1 0 9 2 0 0 4 5 9 2 9 6 6 1 6 6 6 8 3 3 6 5 5 8 8 6 9 8 2 8 4 0 2 6 0 6\n 0 1 0 6 3 2 6 9 5 8 4 1 8 6 1 0 8 9 7 7 3 5 6 9 9 3 1 6 5 6 7 9 9 5 6 6 8\n 2 9 7 1 9 0 2 0 9 7 4 8 7 1 3 5 1 7 3 4 2 5 2 5 2 6 1 6 6 1 8 1 8 1 4 2 5\n 0 1 3 6 6 7 0 6 9 0 1 3 1 7 7 3 4 4 5 5 2 4 5 5 3 5 8 9 8 7 5 0 3 5 4 0 1\n 9 6 4 6 9 3 3 1 1 4 0 9 4 8 7 5 3 0 9 1 1 7 2 8 5 0 2 3 4 4 1 9 3 0 7 7 6\n 2 2 8 0 7 9 0 3 9 5 2 2 1 0 8 9 0 7 9 1 7 2 8 3 8 3 2 1 0 7 9 9 7 5 2 6 9\n 2 0 7 5 1 4 9 1 8 3 6 3 1 7 7 8 3 1 0 5 9 4 1 4 9 0 1 9 1 9 5 7 1 5 9 4 5\n 4 6 4 1 7 5 3 3 2 5 3 2 8 3 3 3 0 7 4 0 9 1 2 8 7 2 8 4 4 4 4 7 4 0 4 6 3\n 7 4 2 7 7 9 4 9 0 3 8 3 7 9 7 7 6 9 2 1 4 3 5 7 8 4 1 7 5 7 2 8 8 7 7 1 6\n 2 4 2 2 3 0 3 0 9 2 1 7 8 9 4 4 9 8 7 3 8 8 9 2 5 9 3 2 9 6 2 6 0 0 5 3 0\n 1 5 1 3 3 5 7 4 8 2 2 1 8 6 0 1 7 6 4 0 4 1 1 6 7 3 4 9 8 9 4 3 1 9 9 8 4\n 3 0 3 8 2 4 9 4 6 6 9 9 9 4 9 7 5 9 3 2 1 9 5 6 2 0 0 9 2 3 8 3 4 4 9 0 4\n 3 7 1 2 9 7 7 9 0 8 2 4 1 1 8 0 4 4 9 2 7 7 2 2 7 2 3 7 5 0 6 0 7 6 4 2 6\n 6 0 6 5 1 5 8 8 2 4 3 0 8 8 5 1 0 5 0 7 1 6 5 0 9 1 4 7 3 2 0 9 1 8 2 7 6\n 4 5 0 4 9 9 7 9 3 9 2 6 1 8 9 0 5 0 5 3 9 9 2 6 6 6 0 7 5 0 1 3 3 7 5 9 6\n 7 4 6 4 5 0 3 1 3 9 6 5 6 1 5 2 9 1 5 1 8 3 8 2 0 9 3 8 8 4 7 8 4 2 6 8 6\n 5 9 8 9 7 7 8 1 0 7 9 9 9 5 4 5 1 7 9 3 5 3 4 1 3 7 7 2 3 4 5 0 4 8 2 8 0\n 7 1 1 2 8 3 6 7 2 3 7 4 0 7 5 5 9 5 1 3 9 5 6 3 0 1 2 9 5 9 0 5 0 9 2 7 8\n 8 4 3 2 3 6 6 7 4 2 0 8 5 4 2 8 3 5 4 4 8 8 0 7 9 0 9 6 6 6 8 3 3 6 9 3 3\n 9 8 8 3 3 6 0 3 4 2 5 8 2 2 6 7 9 9 3 1 4 3 2 1 0 4 9 6 4 9 9 8 0 9 8 2 3\n 4 0 1 6 6 2 7 9 6 4 4 1 1 1 3 7 3 2 6 9 0 6 4 9 5 2 5 5 3 3 0 1 3 7 9 2 5\n 1 4 8 1 6 9 1 7 8 8 8 8 9 7 9 0 2 8 8 5 4 9 4 2 3 3 1 5 0 4 4 8 8 1 8 5 8\n 6 0 9 8 3 9 3 0 2 8 4 4 9 4 1 7 8 8 2 6 4 8 6 8 7 2 9 8 4 7 7 4 1 0 7 9 3\n 6 1 4 6 7 4 6 9 8 1 7 0 1 7 6 6 9 5 7 6 1 0 2 0 5 2 5 8 1 7 9 1 3 9 5 2 2\n 1 1 8 3 3 3 6 0 1 9 6 7 3 2 9 2 7 4 1 5 6 2 8 6 6 3 1 3 9 3 3 9 1 1 6 6 2\n 0 6 3 8 1 7 7 3 9 5 4 6 5 6 8 3 0 8 0 0 2 6 1 0 3 6 7 7 8 3 0 0 3 3 5 8 3\n 6]\n"
     ]
    },
    {
     "output_type": "execute_result",
     "data": {
      "text/plain": [
       "0.173"
      ]
     },
     "metadata": {},
     "execution_count": 15
    }
   ],
   "source": [
    "dev_predictions = make_predictions(X_dev, W1, b1, W2, b2)\n",
    "get_accuracy(dev_predictions, Y_dev)"
   ]
  },
  {
   "cell_type": "code",
   "execution_count": null,
   "metadata": {},
   "outputs": [],
   "source": []
  }
 ]
}