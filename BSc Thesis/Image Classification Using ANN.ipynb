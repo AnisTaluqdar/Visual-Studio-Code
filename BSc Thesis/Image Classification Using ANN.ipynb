{
 "metadata": {
  "language_info": {
   "codemirror_mode": {
    "name": "ipython",
    "version": 3
   },
   "file_extension": ".py",
   "mimetype": "text/x-python",
   "name": "python",
   "nbconvert_exporter": "python",
   "pygments_lexer": "ipython3",
   "version": 3
  },
  "orig_nbformat": 4
 },
 "nbformat": 4,
 "nbformat_minor": 2,
 "cells": [
  {
   "source": [
    "Link:\n",
    "\n",
    "https://medium.com/analytics-vidhya/image-classification-using-ann-c524f36d22c\n",
    "https://towardsdatascience.com/artificial-neural-network-implementation-using-numpy-and-classification-of-the-fruits360-image-3c56affa4491\n",
    "https://thecleverprogrammer.com/2020/07/19/image-classification-with-ann/\n",
    "https://colab.research.google.com/github/keras-team/keras-io/blob/master/examples/vision/ipynb/image_classification_from_scratch.ipynb\n",
    "https://www.kdnuggets.com/2019/11/build-artificial-neural-network-scratch-part-1.html\n",
    "https://blog.keras.io/building-powerful-image-classification-models-using-very-little-data.html\n",
    "\n",
    "Book:\n",
    "\n",
    "Neural Networks from Scratch in Python by Harrison Kinsley & Daniel Kukieła\n",
    "\n",
    "\n"
   ],
   "cell_type": "markdown",
   "metadata": {}
  },
  {
   "cell_type": "code",
   "execution_count": null,
   "metadata": {},
   "outputs": [],
   "source": []
  }
 ]
}