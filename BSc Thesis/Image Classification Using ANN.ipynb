{
 "metadata": {
  "language_info": {
   "codemirror_mode": {
    "name": "ipython",
    "version": 3
   },
   "file_extension": ".py",
   "mimetype": "text/x-python",
   "name": "python",
   "nbconvert_exporter": "python",
   "pygments_lexer": "ipython3",
   "version": "3.9.5"
  },
  "orig_nbformat": 4,
  "kernelspec": {
   "name": "python3",
   "display_name": "Python 3.9.5 64-bit"
  },
  "interpreter": {
   "hash": "c6cdf7320b641c879aa85f55a90f78f0cc6ec9102554fd249e4587df21132c32"
  }
 },
 "nbformat": 4,
 "nbformat_minor": 2,
 "cells": [
  {
   "source": [
    "Link:\n",
    "\n",
    "https://medium.com/analytics-vidhya/image-classification-using-ann-c524f36d22c\n",
    "https://towardsdatascience.com/artificial-neural-network-implementation-using-numpy-and-classification-of-the-fruits360-image-3c56affa4491\n",
    "https://thecleverprogrammer.com/2020/07/19/image-classification-with-ann/\n",
    "https://colab.research.google.com/github/keras-team/keras-io/blob/master/examples/vision/ipynb/image_classification_from_scratch.ipynb\n",
    "https://www.kdnuggets.com/2019/11/build-artificial-neural-network-scratch-part-1.html\n",
    "https://blog.keras.io/building-powerful-image-classification-models-using-very-little-data.html\n",
    "\n",
    "Book:\n",
    "\n",
    "Neural Networks from Scratch in Python by Harrison Kinsley & Daniel Kukieła\n",
    "\n",
    "Tutorials:\n",
    "\n",
    "https://www.youtube.com/playlist?list=PLQVvvaa0QuDcjD5BAw2DxE6OF2tius3V3\n",
    "https://www.youtube.com/playlist?list=PLE1l2MeCdf5mpMo9Xeg6--NB9wVPXU_c_\n",
    "https://www.youtube.com/playlist?list=PLxt59R_fWVzT9bDxA76AHm3ig0Gg9S3So\n",
    "https://www.youtube.com/playlist?list=PL-9x0_FO_lglas4qwPt2n-hgY2Wd3xKqs\n",
    "https://www.youtube.com/playlist?list=PLreJy7tHpOQt7OJOhysTNSbeaWUVYM6nP\n",
    "https://www.youtube.com/playlist?list=PL_49VD9KwQ_NFnA6egEPs4UiM6P3pp0hS\n",
    "\n",
    "\n"
   ],
   "cell_type": "markdown",
   "metadata": {}
  },
  {
   "cell_type": "code",
   "execution_count": 1,
   "metadata": {},
   "outputs": [
    {
     "output_type": "stream",
     "name": "stdout",
     "text": [
      "hello\n"
     ]
    }
   ],
   "source": [
    "print(\"hello\")"
   ]
  },
  {
   "cell_type": "code",
   "execution_count": null,
   "metadata": {},
   "outputs": [],
   "source": []
  }
 ]
}